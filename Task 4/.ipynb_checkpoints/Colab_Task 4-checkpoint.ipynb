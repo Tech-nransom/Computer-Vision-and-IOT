{
 "cells": [
  {
   "cell_type": "markdown",
   "metadata": {
    "id": "HQ9L9zwj506U"
   },
   "source": [
    "**The Sparks Foundation**<br>\n",
    "**Task 4: Face Mask Detection(Used MobileNet model)**\n",
    "<br>By:\n",
    "**Yugandhar Yelai**\n",
    "<br>\n"
   ]
  },
  {
   "cell_type": "code",
   "execution_count": 126,
   "metadata": {
    "colab": {
     "base_uri": "https://localhost:8080/"
    },
    "executionInfo": {
     "elapsed": 5496,
     "status": "ok",
     "timestamp": 1610812749409,
     "user": {
      "displayName": "yugandhar yelai",
      "photoUrl": "https://lh3.googleusercontent.com/a-/AOh14GhVsXnwYLMp2Q7hgevTPFHwKPDnjI3BbkKtZbAphHM=s64",
      "userId": "14257996472509619297"
     },
     "user_tz": -330
    },
    "id": "GZrMjdPfWD5E",
    "outputId": "3751146e-1c05-48fa-9dbe-16f5720c4ade"
   },
   "outputs": [
    {
     "name": "stdout",
     "output_type": "stream",
     "text": [
      "Requirement already satisfied: kaggle in /usr/local/lib/python3.6/dist-packages (1.5.10)\n",
      "Requirement already satisfied: python-dateutil in /usr/local/lib/python3.6/dist-packages (from kaggle) (2.8.1)\n",
      "Requirement already satisfied: python-slugify in /usr/local/lib/python3.6/dist-packages (from kaggle) (4.0.1)\n",
      "Requirement already satisfied: requests in /usr/local/lib/python3.6/dist-packages (from kaggle) (2.23.0)\n",
      "Requirement already satisfied: six>=1.10 in /usr/local/lib/python3.6/dist-packages (from kaggle) (1.15.0)\n",
      "Requirement already satisfied: certifi in /usr/local/lib/python3.6/dist-packages (from kaggle) (2020.12.5)\n",
      "Requirement already satisfied: urllib3 in /usr/local/lib/python3.6/dist-packages (from kaggle) (1.24.3)\n",
      "Requirement already satisfied: tqdm in /usr/local/lib/python3.6/dist-packages (from kaggle) (4.41.1)\n",
      "Requirement already satisfied: text-unidecode>=1.3 in /usr/local/lib/python3.6/dist-packages (from python-slugify->kaggle) (1.3)\n",
      "Requirement already satisfied: chardet<4,>=3.0.2 in /usr/local/lib/python3.6/dist-packages (from requests->kaggle) (3.0.4)\n",
      "Requirement already satisfied: idna<3,>=2.5 in /usr/local/lib/python3.6/dist-packages (from requests->kaggle) (2.10)\n"
     ]
    }
   ],
   "source": [
    "!pip install kaggle"
   ]
  },
  {
   "cell_type": "code",
   "execution_count": null,
   "metadata": {
    "id": "sDEZSrzaYbZz"
   },
   "outputs": [],
   "source": [
    "from google.colab import files\n",
    "files.upload()"
   ]
  },
  {
   "cell_type": "code",
   "execution_count": 127,
   "metadata": {
    "executionInfo": {
     "elapsed": 1635,
     "status": "ok",
     "timestamp": 1610812753531,
     "user": {
      "displayName": "yugandhar yelai",
      "photoUrl": "https://lh3.googleusercontent.com/a-/AOh14GhVsXnwYLMp2Q7hgevTPFHwKPDnjI3BbkKtZbAphHM=s64",
      "userId": "14257996472509619297"
     },
     "user_tz": -330
    },
    "id": "o_skcolrWD5U"
   },
   "outputs": [],
   "source": [
    "!mkdir -p ~/.kaggle\n",
    "!cp kaggle.json ~/.kaggle/ \n",
    "!chmod 600 ~/.kaggle/kaggle.json"
   ]
  },
  {
   "cell_type": "code",
   "execution_count": 128,
   "metadata": {
    "colab": {
     "base_uri": "https://localhost:8080/"
    },
    "executionInfo": {
     "elapsed": 2283,
     "status": "ok",
     "timestamp": 1610812759628,
     "user": {
      "displayName": "yugandhar yelai",
      "photoUrl": "https://lh3.googleusercontent.com/a-/AOh14GhVsXnwYLMp2Q7hgevTPFHwKPDnjI3BbkKtZbAphHM=s64",
      "userId": "14257996472509619297"
     },
     "user_tz": -330
    },
    "id": "X3o_E3W5XtNX",
    "outputId": "77ac48bf-7102-4544-9d0d-dd84ac188f02"
   },
   "outputs": [
    {
     "name": "stdout",
     "output_type": "stream",
     "text": [
      "face-mask-12k-images-dataset.zip: Skipping, found more recently modified local copy (use --force to force download)\n"
     ]
    }
   ],
   "source": [
    "!kaggle datasets download -d ashishjangra27/face-mask-12k-images-dataset"
   ]
  },
  {
   "cell_type": "code",
   "execution_count": 129,
   "metadata": {
    "colab": {
     "base_uri": "https://localhost:8080/"
    },
    "executionInfo": {
     "elapsed": 1574,
     "status": "ok",
     "timestamp": 1610812764495,
     "user": {
      "displayName": "yugandhar yelai",
      "photoUrl": "https://lh3.googleusercontent.com/a-/AOh14GhVsXnwYLMp2Q7hgevTPFHwKPDnjI3BbkKtZbAphHM=s64",
      "userId": "14257996472509619297"
     },
     "user_tz": -330
    },
    "id": "-Uk23sErf2XW",
    "outputId": "ef190292-f1fc-4336-87e3-270872611c50"
   },
   "outputs": [
    {
     "name": "stdout",
     "output_type": "stream",
     "text": [
      " deploy.prototxt\t\t\t    sample_data\n",
      " face-mask-12k-images-dataset.zip\t    testingModel\n",
      "'Face Mask Dataset'\t\t\t    wm2.jpg\n",
      " kaggle.json\t\t\t\t    wm3.jpg\n",
      " res10_300x300_ssd_iter_140000.caffemodel   wom2.jpg\n"
     ]
    }
   ],
   "source": [
    "!ls\n"
   ]
  },
  {
   "cell_type": "code",
   "execution_count": 130,
   "metadata": {
    "colab": {
     "base_uri": "https://localhost:8080/"
    },
    "executionInfo": {
     "elapsed": 7485,
     "status": "ok",
     "timestamp": 1610812776550,
     "user": {
      "displayName": "yugandhar yelai",
      "photoUrl": "https://lh3.googleusercontent.com/a-/AOh14GhVsXnwYLMp2Q7hgevTPFHwKPDnjI3BbkKtZbAphHM=s64",
      "userId": "14257996472509619297"
     },
     "user_tz": -330
    },
    "id": "cmoizHMuf69Q",
    "outputId": "b8b79382-d8db-40e4-8728-dee6443036ad"
   },
   "outputs": [
    {
     "name": "stdout",
     "output_type": "stream",
     "text": [
      "Done\n"
     ]
    }
   ],
   "source": [
    "from zipfile import ZipFile\n",
    "file_name = \"face-mask-12k-images-dataset.zip\"\n",
    "\n",
    "with ZipFile(file_name,\"r\") as zip:\n",
    "  zip.extractall()\n",
    "  print(\"Done\")\n"
   ]
  },
  {
   "cell_type": "code",
   "execution_count": 6,
   "metadata": {
    "colab": {
     "base_uri": "https://localhost:8080/"
    },
    "executionInfo": {
     "elapsed": 10062,
     "status": "ok",
     "timestamp": 1610799014025,
     "user": {
      "displayName": "yugandhar yelai",
      "photoUrl": "https://lh3.googleusercontent.com/a-/AOh14GhVsXnwYLMp2Q7hgevTPFHwKPDnjI3BbkKtZbAphHM=s64",
      "userId": "14257996472509619297"
     },
     "user_tz": -330
    },
    "id": "76vQHN8fgY-S",
    "outputId": "c5cba8cc-190d-4b20-f763-ef935201a854"
   },
   "outputs": [
    {
     "name": "stdout",
     "output_type": "stream",
     "text": [
      "WithMask  WithoutMask\n"
     ]
    }
   ],
   "source": [
    "!ls \"Face Mask Dataset\"/Test\n"
   ]
  },
  {
   "cell_type": "code",
   "execution_count": 131,
   "metadata": {
    "executionInfo": {
     "elapsed": 1204,
     "status": "ok",
     "timestamp": 1610812781331,
     "user": {
      "displayName": "yugandhar yelai",
      "photoUrl": "https://lh3.googleusercontent.com/a-/AOh14GhVsXnwYLMp2Q7hgevTPFHwKPDnjI3BbkKtZbAphHM=s64",
      "userId": "14257996472509619297"
     },
     "user_tz": -330
    },
    "id": "uZiL21J7gd-_"
   },
   "outputs": [],
   "source": [
    "training_dir = \"Face Mask Dataset/Test\"\n",
    "valid_dir = \"Face Mask Dataset/Validation/\"\n",
    "test_dir  = \"Face Mask Dataset/Test/\""
   ]
  },
  {
   "cell_type": "code",
   "execution_count": 132,
   "metadata": {
    "executionInfo": {
     "elapsed": 1149,
     "status": "ok",
     "timestamp": 1610812786426,
     "user": {
      "displayName": "yugandhar yelai",
      "photoUrl": "https://lh3.googleusercontent.com/a-/AOh14GhVsXnwYLMp2Q7hgevTPFHwKPDnjI3BbkKtZbAphHM=s64",
      "userId": "14257996472509619297"
     },
     "user_tz": -330
    },
    "id": "67yHhPGGzOhX"
   },
   "outputs": [],
   "source": [
    "from tensorflow.keras.preprocessing.image import ImageDataGenerator\n",
    "from tensorflow.keras.applications import MobileNetV2\n",
    "from tensorflow.keras.layers import AveragePooling2D\n",
    "from tensorflow.keras.layers import Dropout\n",
    "from tensorflow.keras.layers import Flatten\n",
    "from tensorflow.keras.layers import Dense\n",
    "from tensorflow.keras.layers import Input\n",
    "from tensorflow.keras.models import Model\n",
    "from tensorflow.keras.optimizers import Adam\n",
    "from tensorflow.keras.applications.mobilenet_v2 import preprocess_input\n",
    "from tensorflow.keras.preprocessing.image import img_to_array\n",
    "from tensorflow.keras.preprocessing.image import load_img\n",
    "from tensorflow.keras.utils import to_categorical\n",
    "from sklearn.preprocessing import LabelBinarizer\n",
    "from sklearn.model_selection import train_test_split\n",
    "from sklearn.metrics import classification_report\n",
    "from imutils import paths\n",
    "import matplotlib.pyplot as plt\n",
    "import numpy as np\n",
    "from imutils.video import VideoStream\n",
    "import time\n",
    "import imutils\n",
    "import os"
   ]
  },
  {
   "cell_type": "markdown",
   "metadata": {
    "id": "W4wSAoyL26Ey"
   },
   "source": [
    "grab the list of images in our dataset directory, then initialize\n",
    "the list of data (i.e., images) and class images"
   ]
  },
  {
   "cell_type": "code",
   "execution_count": 133,
   "metadata": {
    "executionInfo": {
     "elapsed": 1251,
     "status": "ok",
     "timestamp": 1610812793910,
     "user": {
      "displayName": "yugandhar yelai",
      "photoUrl": "https://lh3.googleusercontent.com/a-/AOh14GhVsXnwYLMp2Q7hgevTPFHwKPDnjI3BbkKtZbAphHM=s64",
      "userId": "14257996472509619297"
     },
     "user_tz": -330
    },
    "id": "ACNb7nHJbM6e"
   },
   "outputs": [],
   "source": [
    "INIT_LR = 1e-4\n",
    "EPOCHS = 20\n",
    "BS = 32\n",
    "\n",
    "imagePaths = list(paths.list_images(training_dir))\n",
    "data = []\n",
    "labels = []"
   ]
  },
  {
   "cell_type": "markdown",
   "metadata": {
    "id": "XcO0mmTQ3KeS"
   },
   "source": [
    "PreProcessing\n"
   ]
  },
  {
   "cell_type": "code",
   "execution_count": 134,
   "metadata": {
    "executionInfo": {
     "elapsed": 3293,
     "status": "ok",
     "timestamp": 1610812801680,
     "user": {
      "displayName": "yugandhar yelai",
      "photoUrl": "https://lh3.googleusercontent.com/a-/AOh14GhVsXnwYLMp2Q7hgevTPFHwKPDnjI3BbkKtZbAphHM=s64",
      "userId": "14257996472509619297"
     },
     "user_tz": -330
    },
    "id": "FxRBZ8-QzXZc"
   },
   "outputs": [],
   "source": [
    "for imagePath in imagePaths:\n",
    "\tlabel = imagePath.split(os.path.sep)[-2]\n",
    "\timage = load_img(imagePath, target_size=(224, 224))\n",
    "\timage = img_to_array(image)\n",
    "\timage = preprocess_input(image)\n",
    "\tdata.append(image)\n",
    "\tlabels.append(label)"
   ]
  },
  {
   "cell_type": "markdown",
   "metadata": {
    "id": "c0Pc1DR83RvV"
   },
   "source": [
    "convert the data and labels to NumPy arrays"
   ]
  },
  {
   "cell_type": "code",
   "execution_count": 135,
   "metadata": {
    "executionInfo": {
     "elapsed": 1600,
     "status": "ok",
     "timestamp": 1610812809026,
     "user": {
      "displayName": "yugandhar yelai",
      "photoUrl": "https://lh3.googleusercontent.com/a-/AOh14GhVsXnwYLMp2Q7hgevTPFHwKPDnjI3BbkKtZbAphHM=s64",
      "userId": "14257996472509619297"
     },
     "user_tz": -330
    },
    "id": "zXFmhxpLzcme"
   },
   "outputs": [],
   "source": [
    "data = np.array(data, dtype=\"float32\")\n",
    "labels = np.array(labels)"
   ]
  },
  {
   "cell_type": "markdown",
   "metadata": {
    "id": "s1d8ntWA3XRL"
   },
   "source": [
    "perform one-hot encoding on the labels"
   ]
  },
  {
   "cell_type": "code",
   "execution_count": 136,
   "metadata": {
    "executionInfo": {
     "elapsed": 1454,
     "status": "ok",
     "timestamp": 1610812814566,
     "user": {
      "displayName": "yugandhar yelai",
      "photoUrl": "https://lh3.googleusercontent.com/a-/AOh14GhVsXnwYLMp2Q7hgevTPFHwKPDnjI3BbkKtZbAphHM=s64",
      "userId": "14257996472509619297"
     },
     "user_tz": -330
    },
    "id": "vDRKk1nLzkZo"
   },
   "outputs": [],
   "source": [
    "\n",
    "lb = LabelBinarizer()\n",
    "labels = lb.fit_transform(labels)\n",
    "labels = to_categorical(labels)\n",
    "(trainX, testX, trainY, testY) = train_test_split(data, labels,\n",
    "\ttest_size=0.20, stratify=labels, random_state=42)"
   ]
  },
  {
   "cell_type": "markdown",
   "metadata": {
    "id": "gaoh1LqI3dFV"
   },
   "source": [
    "construct the training image generator for data augmentation\n",
    "And Loading the MobileNet model"
   ]
  },
  {
   "cell_type": "code",
   "execution_count": 137,
   "metadata": {
    "colab": {
     "base_uri": "https://localhost:8080/"
    },
    "executionInfo": {
     "elapsed": 1870,
     "status": "ok",
     "timestamp": 1610812820292,
     "user": {
      "displayName": "yugandhar yelai",
      "photoUrl": "https://lh3.googleusercontent.com/a-/AOh14GhVsXnwYLMp2Q7hgevTPFHwKPDnjI3BbkKtZbAphHM=s64",
      "userId": "14257996472509619297"
     },
     "user_tz": -330
    },
    "id": "Zl6WikARzles",
    "outputId": "17eabbd3-586e-4e9d-e7f0-7cf93771ab58"
   },
   "outputs": [
    {
     "name": "stdout",
     "output_type": "stream",
     "text": [
      "WARNING:tensorflow:`input_shape` is undefined or non-square, or `rows` is not in [96, 128, 160, 192, 224]. Weights for input shape (224, 224) will be loaded as the default.\n"
     ]
    }
   ],
   "source": [
    "aug = ImageDataGenerator(\n",
    "\trotation_range=20,\n",
    "\tzoom_range=0.15,\n",
    "\twidth_shift_range=0.2,\n",
    "\theight_shift_range=0.2,\n",
    "\tshear_range=0.15,\n",
    "\thorizontal_flip=True,\n",
    "\tfill_mode=\"nearest\")\n",
    "\n",
    "baseModel = MobileNetV2(weights=\"imagenet\", include_top=False,\n",
    "\tinput_tensor=Input(shape=(224, 224, 3)))"
   ]
  },
  {
   "cell_type": "code",
   "execution_count": 138,
   "metadata": {
    "executionInfo": {
     "elapsed": 1196,
     "status": "ok",
     "timestamp": 1610812826955,
     "user": {
      "displayName": "yugandhar yelai",
      "photoUrl": "https://lh3.googleusercontent.com/a-/AOh14GhVsXnwYLMp2Q7hgevTPFHwKPDnjI3BbkKtZbAphHM=s64",
      "userId": "14257996472509619297"
     },
     "user_tz": -330
    },
    "id": "-9h3U0twzyaW"
   },
   "outputs": [],
   "source": [
    "headModel = baseModel.output\n",
    "headModel = AveragePooling2D(pool_size=(7, 7))(headModel)\n",
    "headModel = Flatten(name=\"flatten\")(headModel)\n",
    "headModel = Dense(128, activation=\"relu\")(headModel)\n",
    "headModel = Dropout(0.5)(headModel)\n",
    "headModel = Dense(2, activation=\"softmax\")(headModel)\n",
    "model = Model(inputs=baseModel.input, outputs=headModel)\n",
    "for layer in baseModel.layers:\n",
    "\tlayer.trainable = False\n"
   ]
  },
  {
   "cell_type": "markdown",
   "metadata": {
    "id": "avuGuNJ-3uni"
   },
   "source": [
    "compile our model"
   ]
  },
  {
   "cell_type": "code",
   "execution_count": 139,
   "metadata": {
    "executionInfo": {
     "elapsed": 1055,
     "status": "ok",
     "timestamp": 1610812831236,
     "user": {
      "displayName": "yugandhar yelai",
      "photoUrl": "https://lh3.googleusercontent.com/a-/AOh14GhVsXnwYLMp2Q7hgevTPFHwKPDnjI3BbkKtZbAphHM=s64",
      "userId": "14257996472509619297"
     },
     "user_tz": -330
    },
    "id": "NAlsKNNLz2wO"
   },
   "outputs": [],
   "source": [
    "opt = Adam(lr=INIT_LR, decay=INIT_LR / EPOCHS)\n",
    "model.compile(loss=\"binary_crossentropy\", optimizer=opt,\n",
    "\tmetrics=[\"accuracy\"])"
   ]
  },
  {
   "cell_type": "markdown",
   "metadata": {
    "id": "hQl2z1fB31C8"
   },
   "source": [
    "train the head of the network"
   ]
  },
  {
   "cell_type": "code",
   "execution_count": null,
   "metadata": {
    "id": "AS9qqOg_z8HJ"
   },
   "outputs": [],
   "source": [
    "H = model.fit(\n",
    "\taug.flow(trainX, trainY, batch_size=BS),\n",
    "\tsteps_per_epoch=len(trainX) // BS,\n",
    "\tvalidation_data=(testX, testY),\n",
    "\tvalidation_steps=len(testX) // BS,\n",
    "\tepochs=EPOCHS)"
   ]
  },
  {
   "cell_type": "markdown",
   "metadata": {
    "id": "NaX-CGgX36ar"
   },
   "source": [
    "make predictions on the testing set"
   ]
  },
  {
   "cell_type": "code",
   "execution_count": 141,
   "metadata": {
    "colab": {
     "base_uri": "https://localhost:8080/"
    },
    "executionInfo": {
     "elapsed": 1857,
     "status": "ok",
     "timestamp": 1610812860856,
     "user": {
      "displayName": "yugandhar yelai",
      "photoUrl": "https://lh3.googleusercontent.com/a-/AOh14GhVsXnwYLMp2Q7hgevTPFHwKPDnjI3BbkKtZbAphHM=s64",
      "userId": "14257996472509619297"
     },
     "user_tz": -330
    },
    "id": "PBkbwetN0DMe",
    "outputId": "e9246c22-aae0-4e56-ae43-f0a007c5542c"
   },
   "outputs": [
    {
     "name": "stdout",
     "output_type": "stream",
     "text": [
      "WARNING:tensorflow:7 out of the last 12 calls to <function Model.make_predict_function.<locals>.predict_function at 0x7f724cbbe730> triggered tf.function retracing. Tracing is expensive and the excessive number of tracings could be due to (1) creating @tf.function repeatedly in a loop, (2) passing tensors with different shapes, (3) passing Python objects instead of tensors. For (1), please define your @tf.function outside of the loop. For (2), @tf.function has experimental_relax_shapes=True option that relaxes argument shapes that can avoid unnecessary retracing. For (3), please refer to https://www.tensorflow.org/guide/function#controlling_retracing and https://www.tensorflow.org/api_docs/python/tf/function for  more details.\n"
     ]
    }
   ],
   "source": [
    "predIdxs = model.predict(testX, batch_size=BS)"
   ]
  },
  {
   "cell_type": "markdown",
   "metadata": {
    "id": "rLg7Kufe4X-u"
   },
   "source": [
    "Saving the model"
   ]
  },
  {
   "cell_type": "code",
   "execution_count": null,
   "metadata": {
    "id": "fCShiqPN0Emn"
   },
   "outputs": [],
   "source": [
    "model.save(\"testingModel\", save_format=\"h5\")"
   ]
  },
  {
   "cell_type": "markdown",
   "metadata": {
    "id": "TWYicU-R4G2h"
   },
   "source": [
    "plot the training loss and accuracy"
   ]
  },
  {
   "cell_type": "markdown",
   "metadata": {
    "id": "u3G46RDl4SA8"
   },
   "source": [
    "Visualization"
   ]
  },
  {
   "cell_type": "code",
   "execution_count": 142,
   "metadata": {
    "colab": {
     "base_uri": "https://localhost:8080/",
     "height": 283
    },
    "executionInfo": {
     "elapsed": 1571,
     "status": "ok",
     "timestamp": 1610812868929,
     "user": {
      "displayName": "yugandhar yelai",
      "photoUrl": "https://lh3.googleusercontent.com/a-/AOh14GhVsXnwYLMp2Q7hgevTPFHwKPDnjI3BbkKtZbAphHM=s64",
      "userId": "14257996472509619297"
     },
     "user_tz": -330
    },
    "id": "ls58NMR60S3i",
    "outputId": "b080f45e-7fab-4646-e2bd-fc04f445337d"
   },
   "outputs": [
    {
     "data": {
      "text/plain": [
       "[<matplotlib.lines.Line2D at 0x7f73063cb4e0>]"
      ]
     },
     "execution_count": 142,
     "metadata": {
      "tags": []
     },
     "output_type": "execute_result"
    },
    {
     "data": {
      "image/png": "[encoded data removed]",
      "text/plain": [
       "<Figure size 432x288 with 1 Axes>"
      ]
     },
     "metadata": {
      "tags": []
     },
     "output_type": "display_data"
    }
   ],
   "source": [
    "N = EPOCHS\n",
    "plt.style.use(\"ggplot\")\n",
    "plt.figure()\n",
    "plt.plot(np.arange(0, N), H.history[\"loss\"], label=\"train_loss\")\n",
    "plt.plot(np.arange(0, N), H.history[\"val_loss\"], label=\"val_loss\")"
   ]
  },
  {
   "cell_type": "markdown",
   "metadata": {
    "id": "xiN_F3JM2t2F"
   },
   "source": [
    "Switching to Regular Jupyter Notebook"
   ]
  },
  {
   "cell_type": "code",
   "execution_count": null,
   "metadata": {
    "id": "sovXiWwl2qL8"
   },
   "outputs": [],
   "source": []
  },
  {
   "cell_type": "code",
   "execution_count": null,
   "metadata": {
    "id": "AVs50M7u2qYZ"
   },
   "outputs": [],
   "source": []
  },
  {
   "cell_type": "code",
   "execution_count": null,
   "metadata": {
    "id": "yFmrtUAU2qiT"
   },
   "outputs": [],
   "source": []
  },
  {
   "cell_type": "code",
   "execution_count": null,
   "metadata": {
    "id": "FvPk_hOb2qrh"
   },
   "outputs": [],
   "source": []
  },
  {
   "cell_type": "code",
   "execution_count": null,
   "metadata": {
    "id": "1VGaWU2M2q1H"
   },
   "outputs": [],
   "source": []
  },
  {
   "cell_type": "code",
   "execution_count": null,
   "metadata": {
    "id": "dKy7OZcA2q9L"
   },
   "outputs": [],
   "source": []
  },
  {
   "cell_type": "code",
   "execution_count": 109,
   "metadata": {
    "executionInfo": {
     "elapsed": 1167,
     "status": "ok",
     "timestamp": 1610811397173,
     "user": {
      "displayName": "yugandhar yelai",
      "photoUrl": "https://lh3.googleusercontent.com/a-/AOh14GhVsXnwYLMp2Q7hgevTPFHwKPDnjI3BbkKtZbAphHM=s64",
      "userId": "14257996472509619297"
     },
     "user_tz": -330
    },
    "id": "93U_DpZd0rWz"
   },
   "outputs": [],
   "source": []
  },
  {
   "cell_type": "code",
   "execution_count": 110,
   "metadata": {
    "executionInfo": {
     "elapsed": 2385,
     "status": "ok",
     "timestamp": 1610811399260,
     "user": {
      "displayName": "yugandhar yelai",
      "photoUrl": "https://lh3.googleusercontent.com/a-/AOh14GhVsXnwYLMp2Q7hgevTPFHwKPDnjI3BbkKtZbAphHM=s64",
      "userId": "14257996472509619297"
     },
     "user_tz": -330
    },
    "id": "WnP_riIL0rhc"
   },
   "outputs": [],
   "source": []
  },
  {
   "cell_type": "code",
   "execution_count": 111,
   "metadata": {
    "executionInfo": {
     "elapsed": 1660,
     "status": "ok",
     "timestamp": 1610811399263,
     "user": {
      "displayName": "yugandhar yelai",
      "photoUrl": "https://lh3.googleusercontent.com/a-/AOh14GhVsXnwYLMp2Q7hgevTPFHwKPDnjI3BbkKtZbAphHM=s64",
      "userId": "14257996472509619297"
     },
     "user_tz": -330
    },
    "id": "QbpB4iwb0rpg"
   },
   "outputs": [],
   "source": []
  },
  {
   "cell_type": "code",
   "execution_count": 114,
   "metadata": {
    "executionInfo": {
     "elapsed": 1398,
     "status": "ok",
     "timestamp": 1610811424849,
     "user": {
      "displayName": "yugandhar yelai",
      "photoUrl": "https://lh3.googleusercontent.com/a-/AOh14GhVsXnwYLMp2Q7hgevTPFHwKPDnjI3BbkKtZbAphHM=s64",
      "userId": "14257996472509619297"
     },
     "user_tz": -330
    },
    "id": "NPtT7FtG0rwy"
   },
   "outputs": [],
   "source": []
  },
  {
   "cell_type": "code",
   "execution_count": 115,
   "metadata": {
    "colab": {
     "base_uri": "https://localhost:8080/",
     "height": 287
    },
    "executionInfo": {
     "elapsed": 2005,
     "status": "ok",
     "timestamp": 1610811428905,
     "user": {
      "displayName": "yugandhar yelai",
      "photoUrl": "https://lh3.googleusercontent.com/a-/AOh14GhVsXnwYLMp2Q7hgevTPFHwKPDnjI3BbkKtZbAphHM=s64",
      "userId": "14257996472509619297"
     },
     "user_tz": -330
    },
    "id": "_zxuIqAH05uD",
    "outputId": "b04616b6-90cd-4c26-8529-efbe3b0655f2"
   },
   "outputs": [
    {
     "data": {
      "text/plain": [
       "<matplotlib.image.AxesImage at 0x7f724cc006a0>"
      ]
     },
     "execution_count": 115,
     "metadata": {
      "tags": []
     },
     "output_type": "execute_result"
    },
    {
     "data": {
      "image/png": "[encoded data removed]",
      "text/plain": [
       "<Figure size 432x288 with 1 Axes>"
      ]
     },
     "metadata": {
      "tags": []
     },
     "output_type": "display_data"
    }
   ],
   "source": []
  },
  {
   "cell_type": "code",
   "execution_count": null,
   "metadata": {
    "id": "Qgx-1TrY0531"
   },
   "outputs": [],
   "source": []
  },
  {
   "cell_type": "code",
   "execution_count": 121,
   "metadata": {
    "executionInfo": {
     "elapsed": 1355,
     "status": "ok",
     "timestamp": 1610811507899,
     "user": {
      "displayName": "yugandhar yelai",
      "photoUrl": "https://lh3.googleusercontent.com/a-/AOh14GhVsXnwYLMp2Q7hgevTPFHwKPDnjI3BbkKtZbAphHM=s64",
      "userId": "14257996472509619297"
     },
     "user_tz": -330
    },
    "id": "c4ygYeu705_Y"
   },
   "outputs": [],
   "source": []
  },
  {
   "cell_type": "code",
   "execution_count": 122,
   "metadata": {
    "colab": {
     "base_uri": "https://localhost:8080/"
    },
    "executionInfo": {
     "elapsed": 1510,
     "status": "ok",
     "timestamp": 1610811510311,
     "user": {
      "displayName": "yugandhar yelai",
      "photoUrl": "https://lh3.googleusercontent.com/a-/AOh14GhVsXnwYLMp2Q7hgevTPFHwKPDnjI3BbkKtZbAphHM=s64",
      "userId": "14257996472509619297"
     },
     "user_tz": -330
    },
    "id": "GMGA3DQ90r45",
    "outputId": "ea5a4b07-2e15-44e7-e53f-beff68b59679"
   },
   "outputs": [
    {
     "name": "stdout",
     "output_type": "stream",
     "text": [
      "[INFO] loading face detector model...\n"
     ]
    }
   ],
   "source": []
  },
  {
   "cell_type": "code",
   "execution_count": 123,
   "metadata": {
    "colab": {
     "base_uri": "https://localhost:8080/"
    },
    "executionInfo": {
     "elapsed": 1908,
     "status": "ok",
     "timestamp": 1610811512959,
     "user": {
      "displayName": "yugandhar yelai",
      "photoUrl": "https://lh3.googleusercontent.com/a-/AOh14GhVsXnwYLMp2Q7hgevTPFHwKPDnjI3BbkKtZbAphHM=s64",
      "userId": "14257996472509619297"
     },
     "user_tz": -330
    },
    "id": "zLP_W_b31Xm1",
    "outputId": "33b2eee6-b729-420b-867b-64ff143dea0c"
   },
   "outputs": [
    {
     "name": "stdout",
     "output_type": "stream",
     "text": [
      "[INFO] loading face mask detector model...\n"
     ]
    }
   ],
   "source": []
  },
  {
   "cell_type": "code",
   "execution_count": 124,
   "metadata": {
    "colab": {
     "base_uri": "https://localhost:8080/"
    },
    "executionInfo": {
     "elapsed": 3496,
     "status": "ok",
     "timestamp": 1610811517331,
     "user": {
      "displayName": "yugandhar yelai",
      "photoUrl": "https://lh3.googleusercontent.com/a-/AOh14GhVsXnwYLMp2Q7hgevTPFHwKPDnjI3BbkKtZbAphHM=s64",
      "userId": "14257996472509619297"
     },
     "user_tz": -330
    },
    "id": "xqoEQDQy1XvZ",
    "outputId": "751c34a0-3a6b-483d-9922-39b0665794f8"
   },
   "outputs": [
    {
     "name": "stdout",
     "output_type": "stream",
     "text": [
      "[INFO] starting video stream...\n"
     ]
    }
   ],
   "source": []
  },
  {
   "cell_type": "code",
   "execution_count": null,
   "metadata": {
    "colab": {
     "base_uri": "https://localhost:8080/",
     "height": 370
    },
    "executionInfo": {
     "elapsed": 832,
     "status": "error",
     "timestamp": 1610811519474,
     "user": {
      "displayName": "yugandhar yelai",
      "photoUrl": "https://lh3.googleusercontent.com/a-/AOh14GhVsXnwYLMp2Q7hgevTPFHwKPDnjI3BbkKtZbAphHM=s64",
      "userId": "14257996472509619297"
     },
     "user_tz": -330
    },
    "id": "5T91TXQA1idp",
    "outputId": "f91762c2-a4e8-4832-b10c-a8ef0695e687"
   },
   "outputs": [],
   "source": []
  },
  {
   "cell_type": "code",
   "execution_count": null,
   "metadata": {
    "id": "7u1ifhJi1X4E"
   },
   "outputs": [],
   "source": []
  },
  {
   "cell_type": "code",
   "execution_count": null,
   "metadata": {
    "id": "wSG04ZzB0r_8"
   },
   "outputs": [],
   "source": []
  },
  {
   "cell_type": "code",
   "execution_count": null,
   "metadata": {
    "colab": {
     "base_uri": "https://localhost:8080/",
     "height": 361
    },
    "executionInfo": {
     "elapsed": 3350,
     "status": "ok",
     "timestamp": 1610808818225,
     "user": {
      "displayName": "yugandhar yelai",
      "photoUrl": "https://lh3.googleusercontent.com/a-/AOh14GhVsXnwYLMp2Q7hgevTPFHwKPDnjI3BbkKtZbAphHM=s64",
      "userId": "14257996472509619297"
     },
     "user_tz": -330
    },
    "id": "YZaPEBOgbNOT",
    "outputId": "0483f9b1-369a-4d80-a5a7-13cd846f4559"
   },
   "outputs": [],
   "source": []
  },
  {
   "cell_type": "code",
   "execution_count": null,
   "metadata": {
    "colab": {
     "base_uri": "https://localhost:8080/",
     "height": 172
    },
    "executionInfo": {
     "elapsed": 1430,
     "status": "error",
     "timestamp": 1610810070452,
     "user": {
      "displayName": "yugandhar yelai",
      "photoUrl": "https://lh3.googleusercontent.com/a-/AOh14GhVsXnwYLMp2Q7hgevTPFHwKPDnjI3BbkKtZbAphHM=s64",
      "userId": "14257996472509619297"
     },
     "user_tz": -330
    },
    "id": "qBS36JVibNWB",
    "outputId": "a744fea6-b654-4447-f85f-c006fe1e941e"
   },
   "outputs": [],
   "source": []
  },
  {
   "cell_type": "code",
   "execution_count": null,
   "metadata": {
    "id": "8Fjw20yabNdl"
   },
   "outputs": [],
   "source": []
  },
  {
   "cell_type": "code",
   "execution_count": null,
   "metadata": {
    "id": "60xYbSSbbNj2"
   },
   "outputs": [],
   "source": []
  },
  {
   "cell_type": "code",
   "execution_count": null,
   "metadata": {
    "id": "qRbUGCaobNq9"
   },
   "outputs": [],
   "source": []
  },
  {
   "cell_type": "code",
   "execution_count": null,
   "metadata": {
    "id": "tEujSMZ9bNyj"
   },
   "outputs": [],
   "source": []
  },
  {
   "cell_type": "code",
   "execution_count": null,
   "metadata": {
    "id": "E8G7-pg2bN5T"
   },
   "outputs": [],
   "source": []
  },
  {
   "cell_type": "code",
   "execution_count": null,
   "metadata": {
    "id": "ixZ25xAgbOA-"
   },
   "outputs": [],
   "source": [
    "p"
   ]
  },
  {
   "cell_type": "code",
   "execution_count": 68,
   "metadata": {
    "executionInfo": {
     "elapsed": 2360,
     "status": "ok",
     "timestamp": 1610803241047,
     "user": {
      "displayName": "yugandhar yelai",
      "photoUrl": "https://lh3.googleusercontent.com/a-/AOh14GhVsXnwYLMp2Q7hgevTPFHwKPDnjI3BbkKtZbAphHM=s64",
      "userId": "14257996472509619297"
     },
     "user_tz": -330
    },
    "id": "RYtB3R6wVYkG"
   },
   "outputs": [],
   "source": [
    "import os\n",
    "import cv2\n",
    "import pickle\n",
    "import numpy as np\n",
    "import xml.etree.ElementTree as ET\n",
    "import matplotlib.pyplot as plt\n",
    "%matplotlib inline\n",
    "from tensorflow.keras.utils import to_categorical"
   ]
  },
  {
   "cell_type": "code",
   "execution_count": 69,
   "metadata": {
    "executionInfo": {
     "elapsed": 1768,
     "status": "ok",
     "timestamp": 1610803242179,
     "user": {
      "displayName": "yugandhar yelai",
      "photoUrl": "https://lh3.googleusercontent.com/a-/AOh14GhVsXnwYLMp2Q7hgevTPFHwKPDnjI3BbkKtZbAphHM=s64",
      "userId": "14257996472509619297"
     },
     "user_tz": -330
    },
    "id": "ulYBuEOrVYrB"
   },
   "outputs": [],
   "source": [
    "#BASE_DIR = os.getcwd()\n",
    "image_dir = training_dir#os.path.join(BASE_DIR, 'data', 'images')\n",
    "annot_dir = valid_dir#os.path.join(BASE_DIR, 'data', 'annotations')"
   ]
  },
  {
   "cell_type": "code",
   "execution_count": 71,
   "metadata": {
    "colab": {
     "base_uri": "https://localhost:8080/",
     "height": 100
    },
    "executionInfo": {
     "elapsed": 1166,
     "status": "error",
     "timestamp": 1610803647784,
     "user": {
      "displayName": "yugandhar yelai",
      "photoUrl": "https://lh3.googleusercontent.com/a-/AOh14GhVsXnwYLMp2Q7hgevTPFHwKPDnjI3BbkKtZbAphHM=s64",
      "userId": "14257996472509619297"
     },
     "user_tz": -330
    },
    "id": "ImCJiBlLVYxa",
    "outputId": "e6337d0a-623e-465a-ac77-586fb9a4b108"
   },
   "outputs": [
    {
     "ename": "ParseError",
     "evalue": "ignored",
     "output_type": "error",
     "traceback": [
      "\u001b[0;36m  File \u001b[0;32m\"<string>\"\u001b[0;36m, line \u001b[0;32munknown\u001b[0m\n\u001b[0;31mParseError\u001b[0m\u001b[0;31m:\u001b[0m not well-formed (invalid token): line 1, column 0\n"
     ]
    }
   ],
   "source": [
    "label2category = {'without_mask': 0, 'with_mask': 1}#, 'mask_weared_incorrect': 2}\n",
    "category2label = {v: k for k, v in label2category.items()}\n",
    "datas = []\n",
    "\n",
    "for root, dirs, files in os.walk(annot_dir):\n",
    "    for file in files:\n",
    "        tree = ET.parse(os.path.join(root, file))\n",
    "        data = {'path': None, 'objects': []}\n",
    "        data['path'] = os.path.join(image_dir, tree.find('filename').text)\n",
    "        for obj in tree.findall('object'):\n",
    "            label = label2category[obj.find('name').text]\n",
    "            # top left co-ordinates\n",
    "            xmin = int(obj.find('bndbox/xmin').text)\n",
    "            ymin = int(obj.find('bndbox/ymin').text)\n",
    "            # bottom right co-ordinates\n",
    "            xmax = int(obj.find('bndbox/xmax').text)\n",
    "            ymax = int(obj.find('bndbox/ymax').text)\n",
    "            data['objects'].append([label, xmin, ymin, xmax, ymax])\n",
    "        datas.append(data)\n",
    "\n",
    "print('Total images :', len(datas))"
   ]
  },
  {
   "cell_type": "code",
   "execution_count": null,
   "metadata": {
    "id": "TmsoVY4OVY43"
   },
   "outputs": [],
   "source": [
    "index = np.random.randint(0, len(datas))\n",
    "img = cv2.imread(datas[index]['path'])\n",
    "for (category, xmin, ymin, xmax, ymax) in datas[index]['objects']:\n",
    "    # Draw bounding boxes\n",
    "    cv2.rectangle(img, (xmin, ymin), (xmax, ymax), (0, 255, 0), 1)\n",
    "    cv2.putText(img, str(category), (xmin+2, ymin-3), cv2.FONT_HERSHEY_SIMPLEX, 0.38, (255,255,255), 2)\n",
    "# Show image\n",
    "plt.figure(figsize=(10, 6))\n",
    "plt.imshow(cv2.cvtColor(img, cv2.COLOR_BGR2RGB))\n",
    "plt.show()"
   ]
  },
  {
   "cell_type": "code",
   "execution_count": null,
   "metadata": {
    "id": "wyGLB831VY_D"
   },
   "outputs": [],
   "source": [
    "img_size = (100, 100)\n",
    "X = []\n",
    "Y = []\n",
    "\n",
    "for data in datas:\n",
    "    img = cv2.imread(data['path'])\n",
    "    for (category, xmin, ymin, xmax, ymax) in data['objects']:\n",
    "        roi = img[ymin : ymax, xmin : xmax]\n",
    "        roi = cv2.resize(roi, (100, 100))\n",
    "        data = cv2.cvtColor(roi, cv2.COLOR_BGR2RGB)\n",
    "        target = to_categorical(category, num_classes=len(category2label))\n",
    "        X.append(data)\n",
    "        Y.append(target)\n",
    "        \n",
    "X = np.array(X)\n",
    "Y = np.array(Y)\n",
    "np.save('data/X', X)\n",
    "np.save('data/Y', Y)"
   ]
  },
  {
   "cell_type": "code",
   "execution_count": null,
   "metadata": {
    "id": "qSjSHw9dVZHP"
   },
   "outputs": [],
   "source": [
    "with open('data/category2label.pkl', 'wb') as pf:\n",
    "    pickle.dump(category2label, pf)"
   ]
  },
  {
   "cell_type": "code",
   "execution_count": null,
   "metadata": {
    "id": "gUzbiIQJVtWl"
   },
   "outputs": [],
   "source": [
    "import numpy as np\n",
    "import matplotlib.pyplot as plt\n",
    "%matplotlib inline\n",
    "import seaborn as sns\n",
    "\n",
    "import tensorflow as tf\n",
    "from tensorflow.keras.applications.inception_v3 import InceptionV3\n",
    "from sklearn.model_selection import train_test_split\n",
    "from sklearn.metrics import confusion_matrix"
   ]
  },
  {
   "cell_type": "code",
   "execution_count": null,
   "metadata": {
    "id": "VjzSwSqeVtc0"
   },
   "outputs": [],
   "source": [
    "pre_trained_model = InceptionV3(include_top=False, weights='imagenet', input_shape=(100, 100, 3))\n",
    "\n",
    "# pre_trained_model.summary()"
   ]
  },
  {
   "cell_type": "code",
   "execution_count": null,
   "metadata": {
    "id": "ya_b9bP2Vtl7"
   },
   "outputs": [],
   "source": [
    "\n",
    "'''\n",
    "for layer in pre_trained_model.layers[:15]:\n",
    "    layer.trainable = False\n",
    "\n",
    "for layer in pre_trained_model.layers[15:]:\n",
    "    layer.trainable = True\n",
    "'''\n",
    "for layer in pre_trained_model.layers:\n",
    "    layer.trainable = False\n",
    "    \n",
    "last_layer = pre_trained_model.get_layer('mixed7')\n",
    "print('Last layer output shape :', last_layer.output_shape)\n",
    "last_output = last_layer.output"
   ]
  },
  {
   "cell_type": "code",
   "execution_count": null,
   "metadata": {
    "id": "O0hkrqYfVtsx"
   },
   "outputs": [],
   "source": [
    "x = tf.keras.layers.Flatten()(last_output)\n",
    "x = tf.keras.layers.Dense(1024, activation='relu')(x)\n",
    "x = tf.keras.layers.Dropout(0.3)(x)\n",
    "#The Final layer with 3 outputs for 3 categories\n",
    "x = tf.keras.layers.Dense(3, activation='softmax')(x)\n",
    "\n",
    "model = tf.keras.models.Model(inputs=pre_trained_model.input, outputs=x)\n",
    "\n",
    "# model.summary() "
   ]
  },
  {
   "cell_type": "code",
   "execution_count": null,
   "metadata": {
    "id": "gdGejpZyVt0u"
   },
   "outputs": [],
   "source": [
    "\n",
    "model.compile(optimizer='adam', loss='categorical_crossentropy', metrics=['acc'])\n",
    "X = np.load('data/X.npy')\n",
    "Y = np.load('data/Y.npy')\n",
    "\n",
    "print(X.shape, Y.shape)"
   ]
  },
  {
   "cell_type": "code",
   "execution_count": null,
   "metadata": {
    "id": "4p5jkp7WVZZ1"
   },
   "outputs": [],
   "source": [
    "ax = sns.countplot(np.argmax(Y, axis=1), palette=\"Set1\", alpha=0.8)\n",
    "ax.set_xticklabels(['without_mask', 'with_mask', 'mask_weared_incorrect'], rotation=30, ha=\"right\", fontsize=15)\n",
    "plt.show()"
   ]
  },
  {
   "cell_type": "code",
   "execution_count": null,
   "metadata": {
    "id": "l0oUpfdfWKMo"
   },
   "outputs": [],
   "source": [
    "\n",
    "# Normalizing\n",
    "X = X / 255."
   ]
  },
  {
   "cell_type": "code",
   "execution_count": null,
   "metadata": {
    "id": "VFeZH1ChWKT4"
   },
   "outputs": [],
   "source": [
    "X_train, X_test, Y_train, Y_test = train_test_split(X, Y, test_size=0.1)"
   ]
  },
  {
   "cell_type": "code",
   "execution_count": null,
   "metadata": {
    "id": "HFv4Rh00WKcL"
   },
   "outputs": [],
   "source": [
    "checkpoint = tf.keras.callbacks.ModelCheckpoint(\n",
    "    filepath='data/model-{epoch:03d}.ckpt',\n",
    "    save_weights_only=True,\n",
    "    monitor='val_acc',\n",
    "    mode='max',\n",
    "    save_best_only=True, \n",
    "    verbose=0)\n",
    "\n",
    "history = model.fit(X_train, \n",
    "                    Y_train, \n",
    "                    epochs=20, \n",
    "                    callbacks=[checkpoint], \n",
    "                    validation_split=0.1)"
   ]
  },
  {
   "cell_type": "code",
   "execution_count": null,
   "metadata": {
    "id": "kbzDRrRDWKja"
   },
   "outputs": [],
   "source": [
    "acc = history.history['acc']\n",
    "val_acc = history.history['val_acc']\n",
    "loss = history.history['loss']\n",
    "val_loss = history.history['val_loss']\n",
    "\n",
    "plt.figure(figsize=(15, 6))\n",
    "plt.subplot(121)\n",
    "plt.plot(acc, label='Training')\n",
    "plt.plot(val_acc, label='Validation')\n",
    "plt.title('Training and validation accuracy')\n",
    "plt.xlabel('epochs')\n",
    "plt.ylabel('accuracy')\n",
    "plt.legend()\n",
    "\n",
    "plt.subplot(122)\n",
    "plt.plot(loss, label='Training')\n",
    "plt.plot(val_loss, label='Validation')\n",
    "plt.title('Training and validation loss')\n",
    "plt.xlabel('epochs')\n",
    "plt.ylabel('loss')\n",
    "plt.legend()\n",
    "plt.show()  "
   ]
  },
  {
   "cell_type": "code",
   "execution_count": null,
   "metadata": {
    "id": "5S8bdnyiWKq3"
   },
   "outputs": [],
   "source": [
    "model.save('data/inceptionV3-model.h5')"
   ]
  },
  {
   "cell_type": "code",
   "execution_count": null,
   "metadata": {
    "id": "tApVldLTWKy-"
   },
   "outputs": [],
   "source": [
    "model.evaluate(X_test, Y_test)"
   ]
  },
  {
   "cell_type": "code",
   "execution_count": null,
   "metadata": {
    "id": "0UOgzedTWK5-"
   },
   "outputs": [],
   "source": []
  },
  {
   "cell_type": "code",
   "execution_count": null,
   "metadata": {
    "id": "5Kd9v5eVWLCS"
   },
   "outputs": [],
   "source": []
  },
  {
   "cell_type": "code",
   "execution_count": null,
   "metadata": {
    "id": "bMsEke__WLLD"
   },
   "outputs": [],
   "source": []
  },
  {
   "cell_type": "code",
   "execution_count": null,
   "metadata": {
    "id": "qWaJQG6SVZh4"
   },
   "outputs": [],
   "source": [
    "p"
   ]
  },
  {
   "cell_type": "code",
   "execution_count": 8,
   "metadata": {
    "executionInfo": {
     "elapsed": 12447,
     "status": "ok",
     "timestamp": 1610799016434,
     "user": {
      "displayName": "yugandhar yelai",
      "photoUrl": "https://lh3.googleusercontent.com/a-/AOh14GhVsXnwYLMp2Q7hgevTPFHwKPDnjI3BbkKtZbAphHM=s64",
      "userId": "14257996472509619297"
     },
     "user_tz": -330
    },
    "id": "f1Pdj-sdhDsx"
   },
   "outputs": [],
   "source": [
    "import numpy as np\n",
    "import cv2\n",
    "from tensorflow.keras.preprocessing.image import ImageDataGenerator, array_to_img, img_to_array, load_img\n",
    "from tensorflow.keras.utils import to_categorical\n",
    "\n",
    "from IPython.display import Image\n",
    "import matplotlib.pyplot as plt"
   ]
  },
  {
   "cell_type": "code",
   "execution_count": 11,
   "metadata": {
    "executionInfo": {
     "elapsed": 889,
     "status": "ok",
     "timestamp": 1610799044019,
     "user": {
      "displayName": "yugandhar yelai",
      "photoUrl": "https://lh3.googleusercontent.com/a-/AOh14GhVsXnwYLMp2Q7hgevTPFHwKPDnjI3BbkKtZbAphHM=s64",
      "userId": "14257996472509619297"
     },
     "user_tz": -330
    },
    "id": "dfR3Sn60hHWV"
   },
   "outputs": [],
   "source": [
    "target_size=(32,96)\n",
    "# target_size = (480,640)\n",
    "batch_size = 16"
   ]
  },
  {
   "cell_type": "code",
   "execution_count": 53,
   "metadata": {
    "colab": {
     "base_uri": "https://localhost:8080/"
    },
    "executionInfo": {
     "elapsed": 1030,
     "status": "ok",
     "timestamp": 1610801638982,
     "user": {
      "displayName": "yugandhar yelai",
      "photoUrl": "https://lh3.googleusercontent.com/a-/AOh14GhVsXnwYLMp2Q7hgevTPFHwKPDnjI3BbkKtZbAphHM=s64",
      "userId": "14257996472509619297"
     },
     "user_tz": -330
    },
    "id": "5J1H43A6hREc",
    "outputId": "43d20818-a6d3-4abb-c97e-c494525ec34f"
   },
   "outputs": [
    {
     "name": "stdout",
     "output_type": "stream",
     "text": [
      "Found 992 images belonging to 2 classes.\n"
     ]
    }
   ],
   "source": [
    "train_datagen = ImageDataGenerator(\n",
    "    rescale=1./255,\n",
    "    rotation_range=40,\n",
    "    width_shift_range=0.2,\n",
    "    height_shift_range=0.2,\n",
    "    shear_range=0.2,\n",
    "    zoom_range=0.2,\n",
    "    horizontal_flip=True,\n",
    "    vertical_flip=True)\n",
    "\n",
    "train_generator = train_datagen.flow_from_directory(\n",
    "    training_dir,\n",
    "    # target_size=target_size,\n",
    "    batch_size=batch_size,\n",
    "    color_mode='rgb',    \n",
    "    shuffle=True,\n",
    "    seed=42,\n",
    "    class_mode='categorical')"
   ]
  },
  {
   "cell_type": "code",
   "execution_count": 54,
   "metadata": {
    "colab": {
     "base_uri": "https://localhost:8080/"
    },
    "executionInfo": {
     "elapsed": 1627,
     "status": "ok",
     "timestamp": 1610801647448,
     "user": {
      "displayName": "yugandhar yelai",
      "photoUrl": "https://lh3.googleusercontent.com/a-/AOh14GhVsXnwYLMp2Q7hgevTPFHwKPDnjI3BbkKtZbAphHM=s64",
      "userId": "14257996472509619297"
     },
     "user_tz": -330
    },
    "id": "wb567_0AhRt6",
    "outputId": "15c26a42-63b5-47c8-e582-623f9ef40a36"
   },
   "outputs": [
    {
     "name": "stdout",
     "output_type": "stream",
     "text": [
      "Found 800 images belonging to 2 classes.\n"
     ]
    }
   ],
   "source": [
    "valid_datagen = ImageDataGenerator(rescale=1./255)\n",
    "\n",
    "valid_generator = valid_datagen.flow_from_directory(\n",
    "    valid_dir,\n",
    "    # target_size=target_size,\n",
    "    batch_size=batch_size,\n",
    "    color_mode='rgb',\n",
    "    shuffle=False,    \n",
    "    class_mode='categorical')"
   ]
  },
  {
   "cell_type": "code",
   "execution_count": 55,
   "metadata": {
    "colab": {
     "base_uri": "https://localhost:8080/"
    },
    "executionInfo": {
     "elapsed": 1201,
     "status": "ok",
     "timestamp": 1610801650423,
     "user": {
      "displayName": "yugandhar yelai",
      "photoUrl": "https://lh3.googleusercontent.com/a-/AOh14GhVsXnwYLMp2Q7hgevTPFHwKPDnjI3BbkKtZbAphHM=s64",
      "userId": "14257996472509619297"
     },
     "user_tz": -330
    },
    "id": "30WKp9FfhX5O",
    "outputId": "e446c8e7-1611-4307-8e7d-2b944f5e64a1"
   },
   "outputs": [
    {
     "name": "stdout",
     "output_type": "stream",
     "text": [
      "Found 992 images belonging to 2 classes.\n"
     ]
    }
   ],
   "source": [
    "test_datagen = ImageDataGenerator(rescale=1./255)\n",
    "\n",
    "test_generator = test_datagen.flow_from_directory(\n",
    "    test_dir,\n",
    "    # target_size=target_size,\n",
    "    batch_size=batch_size,\n",
    "    color_mode='rgb', \n",
    "    shuffle=False,    \n",
    "    class_mode='categorical')"
   ]
  },
  {
   "cell_type": "code",
   "execution_count": 15,
   "metadata": {
    "executionInfo": {
     "elapsed": 2500,
     "status": "ok",
     "timestamp": 1610799045689,
     "user": {
      "displayName": "yugandhar yelai",
      "photoUrl": "https://lh3.googleusercontent.com/a-/AOh14GhVsXnwYLMp2Q7hgevTPFHwKPDnjI3BbkKtZbAphHM=s64",
      "userId": "14257996472509619297"
     },
     "user_tz": -330
    },
    "id": "ATJH3rWohZ6C"
   },
   "outputs": [],
   "source": [
    "import tensorflow as tf\n",
    "import tensorflow.keras as keras\n",
    "from tensorflow.keras.models import Model,save_model\n",
    "from tensorflow.keras.layers import Conv2D, MaxPooling2D, Flatten, Dense, Dropout, GlobalAveragePooling2D\n",
    "from tensorflow.keras.layers import Input, BatchNormalization, Activation, LeakyReLU, Concatenate\n",
    "from tensorflow.keras.regularizers import l2\n",
    "from tensorflow.keras.callbacks import ModelCheckpoint\n",
    "from sklearn.metrics import classification_report, confusion_matrix"
   ]
  },
  {
   "cell_type": "code",
   "execution_count": 16,
   "metadata": {
    "executionInfo": {
     "elapsed": 2493,
     "status": "ok",
     "timestamp": 1610799045692,
     "user": {
      "displayName": "yugandhar yelai",
      "photoUrl": "https://lh3.googleusercontent.com/a-/AOh14GhVsXnwYLMp2Q7hgevTPFHwKPDnjI3BbkKtZbAphHM=s64",
      "userId": "14257996472509619297"
     },
     "user_tz": -330
    },
    "id": "wTJCaFpbhdFv"
   },
   "outputs": [],
   "source": [
    "num_classes = 2 # WithMask, WithoutMask"
   ]
  },
  {
   "cell_type": "code",
   "execution_count": 32,
   "metadata": {
    "executionInfo": {
     "elapsed": 939,
     "status": "ok",
     "timestamp": 1610799187404,
     "user": {
      "displayName": "yugandhar yelai",
      "photoUrl": "https://lh3.googleusercontent.com/a-/AOh14GhVsXnwYLMp2Q7hgevTPFHwKPDnjI3BbkKtZbAphHM=s64",
      "userId": "14257996472509619297"
     },
     "user_tz": -330
    },
    "id": "vj-Oq8n0hhs0"
   },
   "outputs": [],
   "source": [
    "# input_shape = (96,96,3)\n",
    "input_shape = (96,96,-1)"
   ]
  },
  {
   "cell_type": "code",
   "execution_count": 33,
   "metadata": {
    "colab": {
     "base_uri": "https://localhost:8080/",
     "height": 394
    },
    "executionInfo": {
     "elapsed": 978,
     "status": "error",
     "timestamp": 1610799187879,
     "user": {
      "displayName": "yugandhar yelai",
      "photoUrl": "https://lh3.googleusercontent.com/a-/AOh14GhVsXnwYLMp2Q7hgevTPFHwKPDnjI3BbkKtZbAphHM=s64",
      "userId": "14257996472509619297"
     },
     "user_tz": -330
    },
    "id": "PU9qzBfyhiOd",
    "outputId": "fcac929d-8071-48b1-9aa5-22c4343bed3f"
   },
   "outputs": [
    {
     "ename": "ValueError",
     "evalue": "ignored",
     "output_type": "error",
     "traceback": [
      "\u001b[0;31m---------------------------------------------------------------------------\u001b[0m",
      "\u001b[0;31mValueError\u001b[0m                                Traceback (most recent call last)",
      "\u001b[0;32m<ipython-input-33-16f8030fd563>\u001b[0m in \u001b[0;36m<module>\u001b[0;34m()\u001b[0m\n\u001b[1;32m      1\u001b[0m \u001b[0;31m# Build Model\u001b[0m\u001b[0;34m\u001b[0m\u001b[0;34m\u001b[0m\u001b[0;34m\u001b[0m\u001b[0m\n\u001b[0;32m----> 2\u001b[0;31m \u001b[0minput_image\u001b[0m \u001b[0;34m=\u001b[0m \u001b[0mInput\u001b[0m\u001b[0;34m(\u001b[0m\u001b[0mshape\u001b[0m\u001b[0;34m=\u001b[0m\u001b[0minput_shape\u001b[0m\u001b[0;34m)\u001b[0m\u001b[0;34m\u001b[0m\u001b[0;34m\u001b[0m\u001b[0m\n\u001b[0m\u001b[1;32m      3\u001b[0m \u001b[0;31m# 1st Conv layer\u001b[0m\u001b[0;34m\u001b[0m\u001b[0;34m\u001b[0m\u001b[0;34m\u001b[0m\u001b[0m\n\u001b[1;32m      4\u001b[0m \u001b[0mmodel\u001b[0m \u001b[0;34m=\u001b[0m \u001b[0mConv2D\u001b[0m\u001b[0;34m(\u001b[0m\u001b[0;36m16\u001b[0m\u001b[0;34m,\u001b[0m \u001b[0;34m(\u001b[0m\u001b[0;36m3\u001b[0m\u001b[0;34m,\u001b[0m \u001b[0;36m3\u001b[0m\u001b[0;34m)\u001b[0m\u001b[0;34m,\u001b[0m \u001b[0mactivation\u001b[0m\u001b[0;34m=\u001b[0m\u001b[0;34m'relu'\u001b[0m\u001b[0;34m,\u001b[0m \u001b[0mpadding\u001b[0m\u001b[0;34m=\u001b[0m\u001b[0;34m'same'\u001b[0m\u001b[0;34m,\u001b[0m \u001b[0minput_shape\u001b[0m\u001b[0;34m=\u001b[0m\u001b[0minput_shape\u001b[0m\u001b[0;34m)\u001b[0m\u001b[0;34m(\u001b[0m\u001b[0minput_image\u001b[0m\u001b[0;34m)\u001b[0m\u001b[0;34m\u001b[0m\u001b[0;34m\u001b[0m\u001b[0m\n\u001b[1;32m      5\u001b[0m \u001b[0mmodel\u001b[0m \u001b[0;34m=\u001b[0m \u001b[0mMaxPooling2D\u001b[0m\u001b[0;34m(\u001b[0m\u001b[0;34m(\u001b[0m\u001b[0;36m2\u001b[0m\u001b[0;34m,\u001b[0m \u001b[0;36m2\u001b[0m\u001b[0;34m)\u001b[0m\u001b[0;34m,\u001b[0m\u001b[0mpadding\u001b[0m\u001b[0;34m=\u001b[0m\u001b[0;34m'same'\u001b[0m\u001b[0;34m)\u001b[0m\u001b[0;34m(\u001b[0m\u001b[0mmodel\u001b[0m\u001b[0;34m)\u001b[0m\u001b[0;34m\u001b[0m\u001b[0;34m\u001b[0m\u001b[0m\n",
      "\u001b[0;32m/usr/local/lib/python3.6/dist-packages/tensorflow/python/keras/engine/input_layer.py\u001b[0m in \u001b[0;36mInput\u001b[0;34m(shape, batch_size, name, dtype, sparse, tensor, ragged, **kwargs)\u001b[0m\n\u001b[1;32m    307\u001b[0m     input_layer_config.update(\n\u001b[1;32m    308\u001b[0m         {'batch_size': batch_size, 'input_shape': shape})\n\u001b[0;32m--> 309\u001b[0;31m   \u001b[0minput_layer\u001b[0m \u001b[0;34m=\u001b[0m \u001b[0mInputLayer\u001b[0m\u001b[0;34m(\u001b[0m\u001b[0;34m**\u001b[0m\u001b[0minput_layer_config\u001b[0m\u001b[0;34m)\u001b[0m\u001b[0;34m\u001b[0m\u001b[0;34m\u001b[0m\u001b[0m\n\u001b[0m\u001b[1;32m    310\u001b[0m \u001b[0;34m\u001b[0m\u001b[0m\n\u001b[1;32m    311\u001b[0m   \u001b[0;31m# Return tensor including `_keras_history`.\u001b[0m\u001b[0;34m\u001b[0m\u001b[0;34m\u001b[0m\u001b[0;34m\u001b[0m\u001b[0m\n",
      "\u001b[0;32m/usr/local/lib/python3.6/dist-packages/tensorflow/python/keras/engine/input_layer.py\u001b[0m in \u001b[0;36m__init__\u001b[0;34m(self, input_shape, batch_size, dtype, input_tensor, sparse, name, ragged, **kwargs)\u001b[0m\n\u001b[1;32m    158\u001b[0m             \u001b[0mname\u001b[0m\u001b[0;34m=\u001b[0m\u001b[0mself\u001b[0m\u001b[0;34m.\u001b[0m\u001b[0mname\u001b[0m\u001b[0;34m,\u001b[0m\u001b[0;34m\u001b[0m\u001b[0;34m\u001b[0m\u001b[0m\n\u001b[1;32m    159\u001b[0m             \u001b[0msparse\u001b[0m\u001b[0;34m=\u001b[0m\u001b[0msparse\u001b[0m\u001b[0;34m,\u001b[0m\u001b[0;34m\u001b[0m\u001b[0;34m\u001b[0m\u001b[0m\n\u001b[0;32m--> 160\u001b[0;31m             ragged=ragged)\n\u001b[0m\u001b[1;32m    161\u001b[0m \u001b[0;34m\u001b[0m\u001b[0m\n\u001b[1;32m    162\u001b[0m       \u001b[0mself\u001b[0m\u001b[0;34m.\u001b[0m\u001b[0mis_placeholder\u001b[0m \u001b[0;34m=\u001b[0m \u001b[0;32mTrue\u001b[0m\u001b[0;34m\u001b[0m\u001b[0;34m\u001b[0m\u001b[0m\n",
      "\u001b[0;32m/usr/local/lib/python3.6/dist-packages/tensorflow/python/keras/backend.py\u001b[0m in \u001b[0;36mplaceholder\u001b[0;34m(shape, ndim, dtype, sparse, name, ragged)\u001b[0m\n\u001b[1;32m   1245\u001b[0m     \u001b[0;32melse\u001b[0m\u001b[0;34m:\u001b[0m\u001b[0;34m\u001b[0m\u001b[0;34m\u001b[0m\u001b[0m\n\u001b[1;32m   1246\u001b[0m       spec = tensor_spec.TensorSpec(\n\u001b[0;32m-> 1247\u001b[0;31m           shape=shape, dtype=dtype, name=name)\n\u001b[0m\u001b[1;32m   1248\u001b[0m       \u001b[0mx\u001b[0m \u001b[0;34m=\u001b[0m \u001b[0mkeras_tensor\u001b[0m\u001b[0;34m.\u001b[0m\u001b[0mKerasTensor\u001b[0m\u001b[0;34m(\u001b[0m\u001b[0mspec\u001b[0m\u001b[0;34m,\u001b[0m \u001b[0mname\u001b[0m\u001b[0;34m=\u001b[0m\u001b[0mname\u001b[0m\u001b[0;34m)\u001b[0m\u001b[0;34m\u001b[0m\u001b[0;34m\u001b[0m\u001b[0m\n\u001b[1;32m   1249\u001b[0m   \u001b[0;32melse\u001b[0m\u001b[0;34m:\u001b[0m\u001b[0;34m\u001b[0m\u001b[0;34m\u001b[0m\u001b[0m\n",
      "\u001b[0;32m/usr/local/lib/python3.6/dist-packages/tensorflow/python/framework/tensor_spec.py\u001b[0m in \u001b[0;36m__init__\u001b[0;34m(self, shape, dtype, name)\u001b[0m\n\u001b[1;32m     49\u001b[0m         \u001b[0;32mnot\u001b[0m \u001b[0mconvertible\u001b[0m \u001b[0mto\u001b[0m \u001b[0ma\u001b[0m\u001b[0;31m \u001b[0m\u001b[0;31m`\u001b[0m\u001b[0mtf\u001b[0m\u001b[0;34m.\u001b[0m\u001b[0mDType\u001b[0m\u001b[0;31m`\u001b[0m\u001b[0;34m.\u001b[0m\u001b[0;34m\u001b[0m\u001b[0;34m\u001b[0m\u001b[0m\n\u001b[1;32m     50\u001b[0m     \"\"\"\n\u001b[0;32m---> 51\u001b[0;31m     \u001b[0mself\u001b[0m\u001b[0;34m.\u001b[0m\u001b[0m_shape\u001b[0m \u001b[0;34m=\u001b[0m \u001b[0mtensor_shape\u001b[0m\u001b[0;34m.\u001b[0m\u001b[0mTensorShape\u001b[0m\u001b[0;34m(\u001b[0m\u001b[0mshape\u001b[0m\u001b[0;34m)\u001b[0m\u001b[0;34m\u001b[0m\u001b[0;34m\u001b[0m\u001b[0m\n\u001b[0m\u001b[1;32m     52\u001b[0m     \u001b[0;32mtry\u001b[0m\u001b[0;34m:\u001b[0m\u001b[0;34m\u001b[0m\u001b[0;34m\u001b[0m\u001b[0m\n\u001b[1;32m     53\u001b[0m       \u001b[0mself\u001b[0m\u001b[0;34m.\u001b[0m\u001b[0m_shape_tuple\u001b[0m \u001b[0;34m=\u001b[0m \u001b[0mtuple\u001b[0m\u001b[0;34m(\u001b[0m\u001b[0mself\u001b[0m\u001b[0;34m.\u001b[0m\u001b[0mshape\u001b[0m\u001b[0;34m.\u001b[0m\u001b[0mas_list\u001b[0m\u001b[0;34m(\u001b[0m\u001b[0;34m)\u001b[0m\u001b[0;34m)\u001b[0m\u001b[0;34m\u001b[0m\u001b[0;34m\u001b[0m\u001b[0m\n",
      "\u001b[0;32m/usr/local/lib/python3.6/dist-packages/tensorflow/python/framework/tensor_shape.py\u001b[0m in \u001b[0;36m__init__\u001b[0;34m(self, dims)\u001b[0m\n\u001b[1;32m    756\u001b[0m     \"\"\"\n\u001b[1;32m    757\u001b[0m     \u001b[0;32mif\u001b[0m \u001b[0misinstance\u001b[0m\u001b[0;34m(\u001b[0m\u001b[0mdims\u001b[0m\u001b[0;34m,\u001b[0m \u001b[0;34m(\u001b[0m\u001b[0mtuple\u001b[0m\u001b[0;34m,\u001b[0m \u001b[0mlist\u001b[0m\u001b[0;34m)\u001b[0m\u001b[0;34m)\u001b[0m\u001b[0;34m:\u001b[0m  \u001b[0;31m# Most common case.\u001b[0m\u001b[0;34m\u001b[0m\u001b[0;34m\u001b[0m\u001b[0m\n\u001b[0;32m--> 758\u001b[0;31m       \u001b[0mself\u001b[0m\u001b[0;34m.\u001b[0m\u001b[0m_dims\u001b[0m \u001b[0;34m=\u001b[0m \u001b[0;34m[\u001b[0m\u001b[0mDimension\u001b[0m\u001b[0;34m(\u001b[0m\u001b[0md\u001b[0m\u001b[0;34m)\u001b[0m \u001b[0;32mfor\u001b[0m \u001b[0md\u001b[0m \u001b[0;32min\u001b[0m \u001b[0mdims\u001b[0m\u001b[0;34m]\u001b[0m\u001b[0;34m\u001b[0m\u001b[0;34m\u001b[0m\u001b[0m\n\u001b[0m\u001b[1;32m    759\u001b[0m     \u001b[0;32melif\u001b[0m \u001b[0mdims\u001b[0m \u001b[0;32mis\u001b[0m \u001b[0;32mNone\u001b[0m\u001b[0;34m:\u001b[0m\u001b[0;34m\u001b[0m\u001b[0;34m\u001b[0m\u001b[0m\n\u001b[1;32m    760\u001b[0m       \u001b[0mself\u001b[0m\u001b[0;34m.\u001b[0m\u001b[0m_dims\u001b[0m \u001b[0;34m=\u001b[0m \u001b[0;32mNone\u001b[0m\u001b[0;34m\u001b[0m\u001b[0;34m\u001b[0m\u001b[0m\n",
      "\u001b[0;32m/usr/local/lib/python3.6/dist-packages/tensorflow/python/framework/tensor_shape.py\u001b[0m in \u001b[0;36m<listcomp>\u001b[0;34m(.0)\u001b[0m\n\u001b[1;32m    756\u001b[0m     \"\"\"\n\u001b[1;32m    757\u001b[0m     \u001b[0;32mif\u001b[0m \u001b[0misinstance\u001b[0m\u001b[0;34m(\u001b[0m\u001b[0mdims\u001b[0m\u001b[0;34m,\u001b[0m \u001b[0;34m(\u001b[0m\u001b[0mtuple\u001b[0m\u001b[0;34m,\u001b[0m \u001b[0mlist\u001b[0m\u001b[0;34m)\u001b[0m\u001b[0;34m)\u001b[0m\u001b[0;34m:\u001b[0m  \u001b[0;31m# Most common case.\u001b[0m\u001b[0;34m\u001b[0m\u001b[0;34m\u001b[0m\u001b[0m\n\u001b[0;32m--> 758\u001b[0;31m       \u001b[0mself\u001b[0m\u001b[0;34m.\u001b[0m\u001b[0m_dims\u001b[0m \u001b[0;34m=\u001b[0m \u001b[0;34m[\u001b[0m\u001b[0mDimension\u001b[0m\u001b[0;34m(\u001b[0m\u001b[0md\u001b[0m\u001b[0;34m)\u001b[0m \u001b[0;32mfor\u001b[0m \u001b[0md\u001b[0m \u001b[0;32min\u001b[0m \u001b[0mdims\u001b[0m\u001b[0;34m]\u001b[0m\u001b[0;34m\u001b[0m\u001b[0;34m\u001b[0m\u001b[0m\n\u001b[0m\u001b[1;32m    759\u001b[0m     \u001b[0;32melif\u001b[0m \u001b[0mdims\u001b[0m \u001b[0;32mis\u001b[0m \u001b[0;32mNone\u001b[0m\u001b[0;34m:\u001b[0m\u001b[0;34m\u001b[0m\u001b[0;34m\u001b[0m\u001b[0m\n\u001b[1;32m    760\u001b[0m       \u001b[0mself\u001b[0m\u001b[0;34m.\u001b[0m\u001b[0m_dims\u001b[0m \u001b[0;34m=\u001b[0m \u001b[0;32mNone\u001b[0m\u001b[0;34m\u001b[0m\u001b[0;34m\u001b[0m\u001b[0m\n",
      "\u001b[0;32m/usr/local/lib/python3.6/dist-packages/tensorflow/python/framework/tensor_shape.py\u001b[0m in \u001b[0;36m__init__\u001b[0;34m(self, value)\u001b[0m\n\u001b[1;32m    189\u001b[0m     \u001b[0;32mif\u001b[0m \u001b[0misinstance\u001b[0m\u001b[0;34m(\u001b[0m\u001b[0mvalue\u001b[0m\u001b[0;34m,\u001b[0m \u001b[0mint\u001b[0m\u001b[0;34m)\u001b[0m\u001b[0;34m:\u001b[0m  \u001b[0;31m# Most common case.\u001b[0m\u001b[0;34m\u001b[0m\u001b[0;34m\u001b[0m\u001b[0m\n\u001b[1;32m    190\u001b[0m       \u001b[0;32mif\u001b[0m \u001b[0mvalue\u001b[0m \u001b[0;34m<\u001b[0m \u001b[0;36m0\u001b[0m\u001b[0;34m:\u001b[0m\u001b[0;34m\u001b[0m\u001b[0;34m\u001b[0m\u001b[0m\n\u001b[0;32m--> 191\u001b[0;31m         \u001b[0;32mraise\u001b[0m \u001b[0mValueError\u001b[0m\u001b[0;34m(\u001b[0m\u001b[0;34m\"Dimension %d must be >= 0\"\u001b[0m \u001b[0;34m%\u001b[0m \u001b[0mvalue\u001b[0m\u001b[0;34m)\u001b[0m\u001b[0;34m\u001b[0m\u001b[0;34m\u001b[0m\u001b[0m\n\u001b[0m\u001b[1;32m    192\u001b[0m       \u001b[0mself\u001b[0m\u001b[0;34m.\u001b[0m\u001b[0m_value\u001b[0m \u001b[0;34m=\u001b[0m \u001b[0mvalue\u001b[0m\u001b[0;34m\u001b[0m\u001b[0;34m\u001b[0m\u001b[0m\n\u001b[1;32m    193\u001b[0m     \u001b[0;32melif\u001b[0m \u001b[0mvalue\u001b[0m \u001b[0;32mis\u001b[0m \u001b[0;32mNone\u001b[0m\u001b[0;34m:\u001b[0m\u001b[0;34m\u001b[0m\u001b[0;34m\u001b[0m\u001b[0m\n",
      "\u001b[0;31mValueError\u001b[0m: Dimension -1 must be >= 0"
     ]
    }
   ],
   "source": [
    "# Build Model\n",
    "input_image = Input(shape=input_shape)\n",
    "# 1st Conv layer\n",
    "model = Conv2D(16, (3, 3), activation='relu', padding='same', input_shape=input_shape)(input_image)\n",
    "model = MaxPooling2D((2, 2),padding='same')(model)\n",
    "# 2nd Conv layer\n",
    "model = Conv2D(32, (3, 3), activation='relu', padding='same')(model)\n",
    "model = MaxPooling2D((2, 2),padding='same')(model)\n",
    "# 3rd Conv layer\n",
    "model = Conv2D(64, (3, 3), activation='relu', padding='same')(model)\n",
    "model = MaxPooling2D((2, 2),padding='same')(model)\n",
    "# 4th Conv layer\n",
    "model = Conv2D(128, (3, 3), activation='relu', padding='same')(model)\n",
    "model = MaxPooling2D((2, 2),padding='same')(model)\n",
    "# 5th Conv layer\n",
    "model = Conv2D(256, (3, 3), activation='relu', padding='same')(model)\n",
    "model = MaxPooling2D((2, 2),padding='same')(model)\n",
    "# FC layers\n",
    "model = Flatten()(model)\n",
    "#model = Dense(1024, kernel_regularizer=l2(0.01), bias_regularizer=l2(0.01))(model)\n",
    "model = Dense(1024)(model)\n",
    "#model = Dropout(0.2)(model)\n",
    "\n",
    "#model = Dense(64, kernel_regularizer=l2(0.01), bias_regularizer=l2(0.01))(model)\n",
    "model = Dense(64)(model)\n",
    "#model = Dropout(0.2)(model)\n",
    "\n",
    "output= Dense(num_classes, activation='softmax')(model)\n",
    "\n",
    "model = Model(inputs=[input_image], outputs=[output])\n",
    "\n",
    "model.summary()"
   ]
  },
  {
   "cell_type": "code",
   "execution_count": 56,
   "metadata": {
    "executionInfo": {
     "elapsed": 1339,
     "status": "ok",
     "timestamp": 1610801656097,
     "user": {
      "displayName": "yugandhar yelai",
      "photoUrl": "https://lh3.googleusercontent.com/a-/AOh14GhVsXnwYLMp2Q7hgevTPFHwKPDnjI3BbkKtZbAphHM=s64",
      "userId": "14257996472509619297"
     },
     "user_tz": -330
    },
    "id": "ACDfMXhUhkYy"
   },
   "outputs": [],
   "source": [
    "# Compile Model\n",
    "model.compile(optimizer='Adam', loss='categorical_crossentropy', metrics=['accuracy'])"
   ]
  },
  {
   "cell_type": "code",
   "execution_count": 57,
   "metadata": {
    "executionInfo": {
     "elapsed": 702,
     "status": "ok",
     "timestamp": 1610801656100,
     "user": {
      "displayName": "yugandhar yelai",
      "photoUrl": "https://lh3.googleusercontent.com/a-/AOh14GhVsXnwYLMp2Q7hgevTPFHwKPDnjI3BbkKtZbAphHM=s64",
      "userId": "14257996472509619297"
     },
     "user_tz": -330
    },
    "id": "1XijPigwhnJD"
   },
   "outputs": [],
   "source": [
    "STEP_SIZE_TRAIN=train_generator.n//train_generator.batch_size\n",
    "STEP_SIZE_VALID=valid_generator.n//valid_generator.batch_size\n",
    "STEP_SIZE_TEST =test_generator.n//test_generator.batch_size\n",
    "num_epochs = 100"
   ]
  },
  {
   "cell_type": "code",
   "execution_count": 58,
   "metadata": {
    "colab": {
     "base_uri": "https://localhost:8080/",
     "height": 540
    },
    "executionInfo": {
     "elapsed": 45569,
     "status": "error",
     "timestamp": 1610801701907,
     "user": {
      "displayName": "yugandhar yelai",
      "photoUrl": "https://lh3.googleusercontent.com/a-/AOh14GhVsXnwYLMp2Q7hgevTPFHwKPDnjI3BbkKtZbAphHM=s64",
      "userId": "14257996472509619297"
     },
     "user_tz": -330
    },
    "id": "eKNp_j4mhpv4",
    "outputId": "d890efe2-b5a0-40ba-fc00-b256bea65465"
   },
   "outputs": [
    {
     "name": "stderr",
     "output_type": "stream",
     "text": [
      "/usr/local/lib/python3.6/dist-packages/tensorflow/python/keras/engine/training.py:1844: UserWarning: `Model.fit_generator` is deprecated and will be removed in a future version. Please use `Model.fit`, which supports generators.\n",
      "  warnings.warn('`Model.fit_generator` is deprecated and '\n"
     ]
    },
    {
     "name": "stdout",
     "output_type": "stream",
     "text": [
      "Epoch 1/100\n",
      "62/62 [==============================] - 18s 263ms/step - loss: 0.4437 - accuracy: 0.7798 - val_loss: 0.1392 - val_accuracy: 0.9425\n",
      "Epoch 2/100\n",
      "62/62 [==============================] - 16s 255ms/step - loss: 0.2071 - accuracy: 0.9199 - val_loss: 0.1077 - val_accuracy: 0.9550\n",
      "Epoch 3/100\n",
      "44/62 [====================>.........] - ETA: 3s - loss: 0.1838 - accuracy: 0.9372"
     ]
    },
    {
     "ename": "KeyboardInterrupt",
     "evalue": "ignored",
     "output_type": "error",
     "traceback": [
      "\u001b[0;31m---------------------------------------------------------------------------\u001b[0m",
      "\u001b[0;31mKeyboardInterrupt\u001b[0m                         Traceback (most recent call last)",
      "\u001b[0;32m<ipython-input-58-594936920eee>\u001b[0m in \u001b[0;36m<module>\u001b[0;34m()\u001b[0m\n\u001b[1;32m      1\u001b[0m \u001b[0;31m# Train Model\u001b[0m\u001b[0;34m\u001b[0m\u001b[0;34m\u001b[0m\u001b[0;34m\u001b[0m\u001b[0m\n\u001b[0;32m----> 2\u001b[0;31m \u001b[0mmodel\u001b[0m\u001b[0;34m.\u001b[0m\u001b[0mfit_generator\u001b[0m\u001b[0;34m(\u001b[0m\u001b[0mtrain_generator\u001b[0m\u001b[0;34m,\u001b[0m\u001b[0msteps_per_epoch\u001b[0m\u001b[0;34m=\u001b[0m\u001b[0mSTEP_SIZE_TRAIN\u001b[0m\u001b[0;34m,\u001b[0m\u001b[0mepochs\u001b[0m\u001b[0;34m=\u001b[0m\u001b[0mnum_epochs\u001b[0m\u001b[0;34m,\u001b[0m \u001b[0mvalidation_data\u001b[0m\u001b[0;34m=\u001b[0m\u001b[0mvalid_generator\u001b[0m\u001b[0;34m,\u001b[0m \u001b[0mvalidation_steps\u001b[0m\u001b[0;34m=\u001b[0m\u001b[0mSTEP_SIZE_VALID\u001b[0m\u001b[0;34m)\u001b[0m \u001b[0;31m#, callbacks=[checkpoint])\u001b[0m\u001b[0;34m\u001b[0m\u001b[0;34m\u001b[0m\u001b[0m\n\u001b[0m",
      "\u001b[0;32m/usr/local/lib/python3.6/dist-packages/tensorflow/python/keras/engine/training.py\u001b[0m in \u001b[0;36mfit_generator\u001b[0;34m(self, generator, steps_per_epoch, epochs, verbose, callbacks, validation_data, validation_steps, validation_freq, class_weight, max_queue_size, workers, use_multiprocessing, shuffle, initial_epoch)\u001b[0m\n\u001b[1;32m   1859\u001b[0m         \u001b[0muse_multiprocessing\u001b[0m\u001b[0;34m=\u001b[0m\u001b[0muse_multiprocessing\u001b[0m\u001b[0;34m,\u001b[0m\u001b[0;34m\u001b[0m\u001b[0;34m\u001b[0m\u001b[0m\n\u001b[1;32m   1860\u001b[0m         \u001b[0mshuffle\u001b[0m\u001b[0;34m=\u001b[0m\u001b[0mshuffle\u001b[0m\u001b[0;34m,\u001b[0m\u001b[0;34m\u001b[0m\u001b[0;34m\u001b[0m\u001b[0m\n\u001b[0;32m-> 1861\u001b[0;31m         initial_epoch=initial_epoch)\n\u001b[0m\u001b[1;32m   1862\u001b[0m \u001b[0;34m\u001b[0m\u001b[0m\n\u001b[1;32m   1863\u001b[0m   def evaluate_generator(self,\n",
      "\u001b[0;32m/usr/local/lib/python3.6/dist-packages/tensorflow/python/keras/engine/training.py\u001b[0m in \u001b[0;36mfit\u001b[0;34m(self, x, y, batch_size, epochs, verbose, callbacks, validation_split, validation_data, shuffle, class_weight, sample_weight, initial_epoch, steps_per_epoch, validation_steps, validation_batch_size, validation_freq, max_queue_size, workers, use_multiprocessing)\u001b[0m\n\u001b[1;32m   1098\u001b[0m                 _r=1):\n\u001b[1;32m   1099\u001b[0m               \u001b[0mcallbacks\u001b[0m\u001b[0;34m.\u001b[0m\u001b[0mon_train_batch_begin\u001b[0m\u001b[0;34m(\u001b[0m\u001b[0mstep\u001b[0m\u001b[0;34m)\u001b[0m\u001b[0;34m\u001b[0m\u001b[0;34m\u001b[0m\u001b[0m\n\u001b[0;32m-> 1100\u001b[0;31m               \u001b[0mtmp_logs\u001b[0m \u001b[0;34m=\u001b[0m \u001b[0mself\u001b[0m\u001b[0;34m.\u001b[0m\u001b[0mtrain_function\u001b[0m\u001b[0;34m(\u001b[0m\u001b[0miterator\u001b[0m\u001b[0;34m)\u001b[0m\u001b[0;34m\u001b[0m\u001b[0;34m\u001b[0m\u001b[0m\n\u001b[0m\u001b[1;32m   1101\u001b[0m               \u001b[0;32mif\u001b[0m \u001b[0mdata_handler\u001b[0m\u001b[0;34m.\u001b[0m\u001b[0mshould_sync\u001b[0m\u001b[0;34m:\u001b[0m\u001b[0;34m\u001b[0m\u001b[0;34m\u001b[0m\u001b[0m\n\u001b[1;32m   1102\u001b[0m                 \u001b[0mcontext\u001b[0m\u001b[0;34m.\u001b[0m\u001b[0masync_wait\u001b[0m\u001b[0;34m(\u001b[0m\u001b[0;34m)\u001b[0m\u001b[0;34m\u001b[0m\u001b[0;34m\u001b[0m\u001b[0m\n",
      "\u001b[0;32m/usr/local/lib/python3.6/dist-packages/tensorflow/python/eager/def_function.py\u001b[0m in \u001b[0;36m__call__\u001b[0;34m(self, *args, **kwds)\u001b[0m\n\u001b[1;32m    826\u001b[0m     \u001b[0mtracing_count\u001b[0m \u001b[0;34m=\u001b[0m \u001b[0mself\u001b[0m\u001b[0;34m.\u001b[0m\u001b[0mexperimental_get_tracing_count\u001b[0m\u001b[0;34m(\u001b[0m\u001b[0;34m)\u001b[0m\u001b[0;34m\u001b[0m\u001b[0;34m\u001b[0m\u001b[0m\n\u001b[1;32m    827\u001b[0m     \u001b[0;32mwith\u001b[0m \u001b[0mtrace\u001b[0m\u001b[0;34m.\u001b[0m\u001b[0mTrace\u001b[0m\u001b[0;34m(\u001b[0m\u001b[0mself\u001b[0m\u001b[0;34m.\u001b[0m\u001b[0m_name\u001b[0m\u001b[0;34m)\u001b[0m \u001b[0;32mas\u001b[0m \u001b[0mtm\u001b[0m\u001b[0;34m:\u001b[0m\u001b[0;34m\u001b[0m\u001b[0;34m\u001b[0m\u001b[0m\n\u001b[0;32m--> 828\u001b[0;31m       \u001b[0mresult\u001b[0m \u001b[0;34m=\u001b[0m \u001b[0mself\u001b[0m\u001b[0;34m.\u001b[0m\u001b[0m_call\u001b[0m\u001b[0;34m(\u001b[0m\u001b[0;34m*\u001b[0m\u001b[0margs\u001b[0m\u001b[0;34m,\u001b[0m \u001b[0;34m**\u001b[0m\u001b[0mkwds\u001b[0m\u001b[0;34m)\u001b[0m\u001b[0;34m\u001b[0m\u001b[0;34m\u001b[0m\u001b[0m\n\u001b[0m\u001b[1;32m    829\u001b[0m       \u001b[0mcompiler\u001b[0m \u001b[0;34m=\u001b[0m \u001b[0;34m\"xla\"\u001b[0m \u001b[0;32mif\u001b[0m \u001b[0mself\u001b[0m\u001b[0;34m.\u001b[0m\u001b[0m_experimental_compile\u001b[0m \u001b[0;32melse\u001b[0m \u001b[0;34m\"nonXla\"\u001b[0m\u001b[0;34m\u001b[0m\u001b[0;34m\u001b[0m\u001b[0m\n\u001b[1;32m    830\u001b[0m       \u001b[0mnew_tracing_count\u001b[0m \u001b[0;34m=\u001b[0m \u001b[0mself\u001b[0m\u001b[0;34m.\u001b[0m\u001b[0mexperimental_get_tracing_count\u001b[0m\u001b[0;34m(\u001b[0m\u001b[0;34m)\u001b[0m\u001b[0;34m\u001b[0m\u001b[0;34m\u001b[0m\u001b[0m\n",
      "\u001b[0;32m/usr/local/lib/python3.6/dist-packages/tensorflow/python/eager/def_function.py\u001b[0m in \u001b[0;36m_call\u001b[0;34m(self, *args, **kwds)\u001b[0m\n\u001b[1;32m    853\u001b[0m       \u001b[0;31m# In this case we have created variables on the first call, so we run the\u001b[0m\u001b[0;34m\u001b[0m\u001b[0;34m\u001b[0m\u001b[0;34m\u001b[0m\u001b[0m\n\u001b[1;32m    854\u001b[0m       \u001b[0;31m# defunned version which is guaranteed to never create variables.\u001b[0m\u001b[0;34m\u001b[0m\u001b[0;34m\u001b[0m\u001b[0;34m\u001b[0m\u001b[0m\n\u001b[0;32m--> 855\u001b[0;31m       \u001b[0;32mreturn\u001b[0m \u001b[0mself\u001b[0m\u001b[0;34m.\u001b[0m\u001b[0m_stateless_fn\u001b[0m\u001b[0;34m(\u001b[0m\u001b[0;34m*\u001b[0m\u001b[0margs\u001b[0m\u001b[0;34m,\u001b[0m \u001b[0;34m**\u001b[0m\u001b[0mkwds\u001b[0m\u001b[0;34m)\u001b[0m  \u001b[0;31m# pylint: disable=not-callable\u001b[0m\u001b[0;34m\u001b[0m\u001b[0;34m\u001b[0m\u001b[0m\n\u001b[0m\u001b[1;32m    856\u001b[0m     \u001b[0;32melif\u001b[0m \u001b[0mself\u001b[0m\u001b[0;34m.\u001b[0m\u001b[0m_stateful_fn\u001b[0m \u001b[0;32mis\u001b[0m \u001b[0;32mnot\u001b[0m \u001b[0;32mNone\u001b[0m\u001b[0;34m:\u001b[0m\u001b[0;34m\u001b[0m\u001b[0;34m\u001b[0m\u001b[0m\n\u001b[1;32m    857\u001b[0m       \u001b[0;31m# Release the lock early so that multiple threads can perform the call\u001b[0m\u001b[0;34m\u001b[0m\u001b[0;34m\u001b[0m\u001b[0;34m\u001b[0m\u001b[0m\n",
      "\u001b[0;32m/usr/local/lib/python3.6/dist-packages/tensorflow/python/eager/function.py\u001b[0m in \u001b[0;36m__call__\u001b[0;34m(self, *args, **kwargs)\u001b[0m\n\u001b[1;32m   2941\u001b[0m        filtered_flat_args) = self._maybe_define_function(args, kwargs)\n\u001b[1;32m   2942\u001b[0m     return graph_function._call_flat(\n\u001b[0;32m-> 2943\u001b[0;31m         filtered_flat_args, captured_inputs=graph_function.captured_inputs)  # pylint: disable=protected-access\n\u001b[0m\u001b[1;32m   2944\u001b[0m \u001b[0;34m\u001b[0m\u001b[0m\n\u001b[1;32m   2945\u001b[0m   \u001b[0;34m@\u001b[0m\u001b[0mproperty\u001b[0m\u001b[0;34m\u001b[0m\u001b[0;34m\u001b[0m\u001b[0m\n",
      "\u001b[0;32m/usr/local/lib/python3.6/dist-packages/tensorflow/python/eager/function.py\u001b[0m in \u001b[0;36m_call_flat\u001b[0;34m(self, args, captured_inputs, cancellation_manager)\u001b[0m\n\u001b[1;32m   1917\u001b[0m       \u001b[0;31m# No tape is watching; skip to running the function.\u001b[0m\u001b[0;34m\u001b[0m\u001b[0;34m\u001b[0m\u001b[0;34m\u001b[0m\u001b[0m\n\u001b[1;32m   1918\u001b[0m       return self._build_call_outputs(self._inference_function.call(\n\u001b[0;32m-> 1919\u001b[0;31m           ctx, args, cancellation_manager=cancellation_manager))\n\u001b[0m\u001b[1;32m   1920\u001b[0m     forward_backward = self._select_forward_and_backward_functions(\n\u001b[1;32m   1921\u001b[0m         \u001b[0margs\u001b[0m\u001b[0;34m,\u001b[0m\u001b[0;34m\u001b[0m\u001b[0;34m\u001b[0m\u001b[0m\n",
      "\u001b[0;32m/usr/local/lib/python3.6/dist-packages/tensorflow/python/eager/function.py\u001b[0m in \u001b[0;36mcall\u001b[0;34m(self, ctx, args, cancellation_manager)\u001b[0m\n\u001b[1;32m    558\u001b[0m               \u001b[0minputs\u001b[0m\u001b[0;34m=\u001b[0m\u001b[0margs\u001b[0m\u001b[0;34m,\u001b[0m\u001b[0;34m\u001b[0m\u001b[0;34m\u001b[0m\u001b[0m\n\u001b[1;32m    559\u001b[0m               \u001b[0mattrs\u001b[0m\u001b[0;34m=\u001b[0m\u001b[0mattrs\u001b[0m\u001b[0;34m,\u001b[0m\u001b[0;34m\u001b[0m\u001b[0;34m\u001b[0m\u001b[0m\n\u001b[0;32m--> 560\u001b[0;31m               ctx=ctx)\n\u001b[0m\u001b[1;32m    561\u001b[0m         \u001b[0;32melse\u001b[0m\u001b[0;34m:\u001b[0m\u001b[0;34m\u001b[0m\u001b[0;34m\u001b[0m\u001b[0m\n\u001b[1;32m    562\u001b[0m           outputs = execute.execute_with_cancellation(\n",
      "\u001b[0;32m/usr/local/lib/python3.6/dist-packages/tensorflow/python/eager/execute.py\u001b[0m in \u001b[0;36mquick_execute\u001b[0;34m(op_name, num_outputs, inputs, attrs, ctx, name)\u001b[0m\n\u001b[1;32m     58\u001b[0m     \u001b[0mctx\u001b[0m\u001b[0;34m.\u001b[0m\u001b[0mensure_initialized\u001b[0m\u001b[0;34m(\u001b[0m\u001b[0;34m)\u001b[0m\u001b[0;34m\u001b[0m\u001b[0;34m\u001b[0m\u001b[0m\n\u001b[1;32m     59\u001b[0m     tensors = pywrap_tfe.TFE_Py_Execute(ctx._handle, device_name, op_name,\n\u001b[0;32m---> 60\u001b[0;31m                                         inputs, attrs, num_outputs)\n\u001b[0m\u001b[1;32m     61\u001b[0m   \u001b[0;32mexcept\u001b[0m \u001b[0mcore\u001b[0m\u001b[0;34m.\u001b[0m\u001b[0m_NotOkStatusException\u001b[0m \u001b[0;32mas\u001b[0m \u001b[0me\u001b[0m\u001b[0;34m:\u001b[0m\u001b[0;34m\u001b[0m\u001b[0;34m\u001b[0m\u001b[0m\n\u001b[1;32m     62\u001b[0m     \u001b[0;32mif\u001b[0m \u001b[0mname\u001b[0m \u001b[0;32mis\u001b[0m \u001b[0;32mnot\u001b[0m \u001b[0;32mNone\u001b[0m\u001b[0;34m:\u001b[0m\u001b[0;34m\u001b[0m\u001b[0;34m\u001b[0m\u001b[0m\n",
      "\u001b[0;31mKeyboardInterrupt\u001b[0m: "
     ]
    }
   ],
   "source": [
    "# Train Model\n",
    "model.fit_generator(train_generator,steps_per_epoch=STEP_SIZE_TRAIN,epochs=num_epochs, validation_data=valid_generator, validation_steps=STEP_SIZE_VALID) #, callbacks=[checkpoint])"
   ]
  },
  {
   "cell_type": "code",
   "execution_count": 64,
   "metadata": {
    "executionInfo": {
     "elapsed": 1217,
     "status": "ok",
     "timestamp": 1610802186827,
     "user": {
      "displayName": "yugandhar yelai",
      "photoUrl": "https://lh3.googleusercontent.com/a-/AOh14GhVsXnwYLMp2Q7hgevTPFHwKPDnjI3BbkKtZbAphHM=s64",
      "userId": "14257996472509619297"
     },
     "user_tz": -330
    },
    "id": "9TVl_8pEhsRd"
   },
   "outputs": [],
   "source": [
    "save_model(model, \"task4_final.h5\")"
   ]
  },
  {
   "cell_type": "code",
   "execution_count": 65,
   "metadata": {
    "colab": {
     "base_uri": "https://localhost:8080/"
    },
    "executionInfo": {
     "elapsed": 3715,
     "status": "ok",
     "timestamp": 1610802193659,
     "user": {
      "displayName": "yugandhar yelai",
      "photoUrl": "https://lh3.googleusercontent.com/a-/AOh14GhVsXnwYLMp2Q7hgevTPFHwKPDnjI3BbkKtZbAphHM=s64",
      "userId": "14257996472509619297"
     },
     "user_tz": -330
    },
    "id": "STzqcNgCj_J-",
    "outputId": "e3251432-59a8-4b8c-e57b-222484661e4c"
   },
   "outputs": [
    {
     "name": "stderr",
     "output_type": "stream",
     "text": [
      "/usr/local/lib/python3.6/dist-packages/tensorflow/python/keras/engine/training.py:1877: UserWarning: `Model.evaluate_generator` is deprecated and will be removed in a future version. Please use `Model.evaluate`, which supports generators.\n",
      "  warnings.warn('`Model.evaluate_generator` is deprecated and '\n"
     ]
    },
    {
     "name": "stdout",
     "output_type": "stream",
     "text": [
      "[0.03378290310502052, 0.9858871102333069]\n"
     ]
    }
   ],
   "source": [
    "score = model.evaluate_generator(test_generator, steps=STEP_SIZE_TEST)\n",
    "print(score)"
   ]
  },
  {
   "cell_type": "code",
   "execution_count": 66,
   "metadata": {
    "colab": {
     "base_uri": "https://localhost:8080/"
    },
    "executionInfo": {
     "elapsed": 3502,
     "status": "ok",
     "timestamp": 1610802200335,
     "user": {
      "displayName": "yugandhar yelai",
      "photoUrl": "https://lh3.googleusercontent.com/a-/AOh14GhVsXnwYLMp2Q7hgevTPFHwKPDnjI3BbkKtZbAphHM=s64",
      "userId": "14257996472509619297"
     },
     "user_tz": -330
    },
    "id": "Ln9ERQN9kC4v",
    "outputId": "bdedb7a4-65f2-4d95-d665-9b790ab5fdaa"
   },
   "outputs": [
    {
     "name": "stderr",
     "output_type": "stream",
     "text": [
      "/usr/local/lib/python3.6/dist-packages/tensorflow/python/keras/engine/training.py:1905: UserWarning: `Model.predict_generator` is deprecated and will be removed in a future version. Please use `Model.predict`, which supports generators.\n",
      "  warnings.warn('`Model.predict_generator` is deprecated and '\n"
     ]
    },
    {
     "name": "stdout",
     "output_type": "stream",
     "text": [
      "[[480   3]\n",
      " [ 11 498]]\n"
     ]
    }
   ],
   "source": [
    "predY=model.predict_generator(test_generator)\n",
    "y_pred = np.argmax(predY,axis=1)\n",
    "# y_label= [labels[k] for k in y_pred]\n",
    "y_actual = test_generator.classes\n",
    "cm = confusion_matrix(y_actual, y_pred)\n",
    "print(cm)"
   ]
  },
  {
   "cell_type": "code",
   "execution_count": 67,
   "metadata": {
    "colab": {
     "base_uri": "https://localhost:8080/"
    },
    "executionInfo": {
     "elapsed": 978,
     "status": "ok",
     "timestamp": 1610802204817,
     "user": {
      "displayName": "yugandhar yelai",
      "photoUrl": "https://lh3.googleusercontent.com/a-/AOh14GhVsXnwYLMp2Q7hgevTPFHwKPDnjI3BbkKtZbAphHM=s64",
      "userId": "14257996472509619297"
     },
     "user_tz": -330
    },
    "id": "j6likAt0kI9X",
    "outputId": "b48ca98c-081a-4a20-97f5-12eadb76ba47"
   },
   "outputs": [
    {
     "name": "stdout",
     "output_type": "stream",
     "text": [
      "              precision    recall  f1-score   support\n",
      "\n",
      "    withMask       0.98      0.99      0.99       483\n",
      " withoutMask       0.99      0.98      0.99       509\n",
      "\n",
      "    accuracy                           0.99       992\n",
      "   macro avg       0.99      0.99      0.99       992\n",
      "weighted avg       0.99      0.99      0.99       992\n",
      "\n"
     ]
    }
   ],
   "source": [
    "# report\n",
    "labels = ['withMask', 'withoutMask']\n",
    "print(classification_report(y_actual, y_pred, target_names=labels))"
   ]
  },
  {
   "cell_type": "code",
   "execution_count": null,
   "metadata": {
    "executionInfo": {
     "elapsed": 15221,
     "status": "aborted",
     "timestamp": 1610799058529,
     "user": {
      "displayName": "yugandhar yelai",
      "photoUrl": "https://lh3.googleusercontent.com/a-/AOh14GhVsXnwYLMp2Q7hgevTPFHwKPDnjI3BbkKtZbAphHM=s64",
      "userId": "14257996472509619297"
     },
     "user_tz": -330
    },
    "id": "NKqY_eVRkNl1"
   },
   "outputs": [],
   "source": []
  },
  {
   "cell_type": "code",
   "execution_count": null,
   "metadata": {
    "id": "zK4WaXsRPEpc"
   },
   "outputs": [],
   "source": []
  },
  {
   "cell_type": "code",
   "execution_count": null,
   "metadata": {
    "id": "Ln1ITBdePE4n"
   },
   "outputs": [],
   "source": []
  },
  {
   "cell_type": "code",
   "execution_count": null,
   "metadata": {
    "id": "Ca7IApzfPFEo"
   },
   "outputs": [],
   "source": []
  },
  {
   "cell_type": "code",
   "execution_count": null,
   "metadata": {
    "id": "wPvRr9lcPFM5"
   },
   "outputs": [],
   "source": []
  },
  {
   "cell_type": "code",
   "execution_count": 37,
   "metadata": {
    "executionInfo": {
     "elapsed": 911,
     "status": "ok",
     "timestamp": 1610801245275,
     "user": {
      "displayName": "yugandhar yelai",
      "photoUrl": "https://lh3.googleusercontent.com/a-/AOh14GhVsXnwYLMp2Q7hgevTPFHwKPDnjI3BbkKtZbAphHM=s64",
      "userId": "14257996472509619297"
     },
     "user_tz": -330
    },
    "id": "h3DtFQ5OPFSu"
   },
   "outputs": [],
   "source": [
    "\n",
    "import os\n",
    "from imutils import paths\n",
    "import numpy as np\n",
    "from tensorflow.keras.applications import MobileNetV2\n",
    "from tensorflow.keras.applications.mobilenet_v2 import preprocess_input\n",
    "from tensorflow.keras.layers import Input,Flatten,AveragePooling2D,Dense,Dropout\n",
    "from tensorflow.keras.preprocessing.image import load_img,img_to_array\n",
    "from tensorflow.keras.preprocessing.image import ImageDataGenerator\n",
    "from tensorflow.keras.optimizers import Adam\n",
    "from tensorflow.keras.models import Model\n",
    "from tensorflow.keras.utils import to_categorical\n",
    "from sklearn.preprocessing import LabelBinarizer\n",
    "from sklearn.model_selection import train_test_split\n",
    "from sklearn.metrics import classification_report\n",
    "import matplotlib.pyplot as plt"
   ]
  },
  {
   "cell_type": "code",
   "execution_count": 59,
   "metadata": {
    "colab": {
     "base_uri": "https://localhost:8080/"
    },
    "executionInfo": {
     "elapsed": 1973,
     "status": "ok",
     "timestamp": 1610801712776,
     "user": {
      "displayName": "yugandhar yelai",
      "photoUrl": "https://lh3.googleusercontent.com/a-/AOh14GhVsXnwYLMp2Q7hgevTPFHwKPDnjI3BbkKtZbAphHM=s64",
      "userId": "14257996472509619297"
     },
     "user_tz": -330
    },
    "id": "i8Qm6Q1GPGgm",
    "outputId": "8f92337d-459b-4918-c03c-429cd4101096"
   },
   "outputs": [
    {
     "name": "stdout",
     "output_type": "stream",
     "text": [
      "WARNING:tensorflow:`input_shape` is undefined or non-square, or `rows` is not in [96, 128, 160, 192, 224]. Weights for input shape (224, 224) will be loaded as the default.\n"
     ]
    }
   ],
   "source": [
    "basemodel = MobileNetV2(weights = 'imagenet',include_top=False,input_tensor=Input(shape=(224,224,3)))\n",
    "\n",
    "headmodel = basemodel.output\n",
    "headmodel = AveragePooling2D(pool_size=(7,7))(headmodel)\n",
    "headmodel = Flatten(name='flatten')(headmodel)\n",
    "headmodel = Dense(128,activation = 'relu')(headmodel)\n",
    "headmodel = Dropout(0.5)(headmodel)\n",
    "headmodel = Dense(2,activation='softmax')(headmodel)\n",
    "\n",
    "model = Model(inputs=basemodel.input,outputs = headmodel)\n",
    "\n",
    "#freezing the layers of basemodel\n",
    "for layer in basemodel.layers:\n",
    "  layer.trainable = False"
   ]
  },
  {
   "cell_type": "code",
   "execution_count": 62,
   "metadata": {
    "executionInfo": {
     "elapsed": 1132,
     "status": "ok",
     "timestamp": 1610801868199,
     "user": {
      "displayName": "yugandhar yelai",
      "photoUrl": "https://lh3.googleusercontent.com/a-/AOh14GhVsXnwYLMp2Q7hgevTPFHwKPDnjI3BbkKtZbAphHM=s64",
      "userId": "14257996472509619297"
     },
     "user_tz": -330
    },
    "id": "Xp1b3E13Pjl1"
   },
   "outputs": [],
   "source": [
    "model.compile(optimizer='Adam', loss='categorical_crossentropy', metrics=['accuracy'])\n",
    "STEP_SIZE_TRAIN=train_generator.n//train_generator.batch_size\n",
    "STEP_SIZE_VALID=valid_generator.n//valid_generator.batch_size\n",
    "STEP_SIZE_TEST =test_generator.n//test_generator.batch_size\n",
    "num_epochs = 10"
   ]
  },
  {
   "cell_type": "code",
   "execution_count": 63,
   "metadata": {
    "colab": {
     "base_uri": "https://localhost:8080/"
    },
    "executionInfo": {
     "elapsed": 162125,
     "status": "ok",
     "timestamp": 1610802030111,
     "user": {
      "displayName": "yugandhar yelai",
      "photoUrl": "https://lh3.googleusercontent.com/a-/AOh14GhVsXnwYLMp2Q7hgevTPFHwKPDnjI3BbkKtZbAphHM=s64",
      "userId": "14257996472509619297"
     },
     "user_tz": -330
    },
    "id": "c7as0z1yPVcp",
    "outputId": "b8b47291-6540-45d5-ec3d-0e9a1656a628"
   },
   "outputs": [
    {
     "name": "stderr",
     "output_type": "stream",
     "text": [
      "/usr/local/lib/python3.6/dist-packages/tensorflow/python/keras/engine/training.py:1844: UserWarning: `Model.fit_generator` is deprecated and will be removed in a future version. Please use `Model.fit`, which supports generators.\n",
      "  warnings.warn('`Model.fit_generator` is deprecated and '\n"
     ]
    },
    {
     "name": "stdout",
     "output_type": "stream",
     "text": [
      "Epoch 1/10\n",
      "62/62 [==============================] - 19s 262ms/step - loss: 0.1309 - accuracy: 0.9584 - val_loss: 0.0652 - val_accuracy: 0.9812\n",
      "Epoch 2/10\n",
      "62/62 [==============================] - 16s 253ms/step - loss: 0.1111 - accuracy: 0.9595 - val_loss: 0.0606 - val_accuracy: 0.9775\n",
      "Epoch 3/10\n",
      "62/62 [==============================] - 16s 255ms/step - loss: 0.1315 - accuracy: 0.9511 - val_loss: 0.0560 - val_accuracy: 0.9762\n",
      "Epoch 4/10\n",
      "62/62 [==============================] - 16s 257ms/step - loss: 0.0781 - accuracy: 0.9731 - val_loss: 0.0960 - val_accuracy: 0.9600\n",
      "Epoch 5/10\n",
      "62/62 [==============================] - 16s 253ms/step - loss: 0.1090 - accuracy: 0.9705 - val_loss: 0.0643 - val_accuracy: 0.9750\n",
      "Epoch 6/10\n",
      "62/62 [==============================] - 16s 253ms/step - loss: 0.1057 - accuracy: 0.9618 - val_loss: 0.1422 - val_accuracy: 0.9362\n",
      "Epoch 7/10\n",
      "62/62 [==============================] - 16s 253ms/step - loss: 0.0796 - accuracy: 0.9628 - val_loss: 0.0540 - val_accuracy: 0.9800\n",
      "Epoch 8/10\n",
      "62/62 [==============================] - 16s 257ms/step - loss: 0.0919 - accuracy: 0.9709 - val_loss: 0.0786 - val_accuracy: 0.9688\n",
      "Epoch 9/10\n",
      "62/62 [==============================] - 16s 254ms/step - loss: 0.0652 - accuracy: 0.9786 - val_loss: 0.0434 - val_accuracy: 0.9787\n",
      "Epoch 10/10\n",
      "62/62 [==============================] - 16s 254ms/step - loss: 0.0676 - accuracy: 0.9796 - val_loss: 0.0439 - val_accuracy: 0.9837\n"
     ]
    },
    {
     "data": {
      "text/plain": [
       "<tensorflow.python.keras.callbacks.History at 0x7f72244cd3c8>"
      ]
     },
     "execution_count": 63,
     "metadata": {
      "tags": []
     },
     "output_type": "execute_result"
    }
   ],
   "source": [
    "model.fit_generator(train_generator,steps_per_epoch=STEP_SIZE_TRAIN,epochs=num_epochs, validation_data=valid_generator, validation_steps=STEP_SIZE_VALID) #, callbacks=[checkpoint])"
   ]
  },
  {
   "cell_type": "code",
   "execution_count": null,
   "metadata": {
    "id": "XzWhbK0LPg6D"
   },
   "outputs": [],
   "source": []
  }
 ],
 "metadata": {
  "accelerator": "GPU",
  "colab": {
   "collapsed_sections": [],
   "name": "Task 4.ipynb",
   "provenance": [
    {
     "file_id": "https://github.com/Tech-nransom/Computer-Vision-and-IOT/blob/main/Task%203/Task%203.ipynb",
     "timestamp": 1610706142735
    }
   ]
  },
  "kernelspec": {
   "display_name": "Python 3",
   "language": "python",
   "name": "python3"
  },
  "language_info": {
   "codemirror_mode": {
    "name": "ipython",
    "version": 3
   },
   "file_extension": ".py",
   "mimetype": "text/x-python",
   "name": "python",
   "nbconvert_exporter": "python",
   "pygments_lexer": "ipython3",
   "version": "3.8.5"
  }
 },
 "nbformat": 4,
 "nbformat_minor": 1
}
