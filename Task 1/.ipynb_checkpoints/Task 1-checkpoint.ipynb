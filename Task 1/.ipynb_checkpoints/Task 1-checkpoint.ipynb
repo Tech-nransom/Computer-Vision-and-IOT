{
 "cells": [
  {
   "cell_type": "markdown",
   "metadata": {},
   "source": [
    "<H2> NAME:YUGANDHAR YELAI \n",
    "<BR> TASK- 1\n",
    "<BR> TASK NAME:OPTICAL CHARACTER RECOGNITION (OCR) USING PYTHON</H2>"
   ]
  },
  {
   "cell_type": "markdown",
   "metadata": {},
   "source": [
    "## Installing the dependencies "
   ]
  },
  {
   "cell_type": "code",
   "execution_count": null,
   "metadata": {},
   "outputs": [],
   "source": [
    "!pip install pytesseract\n",
    "!pip install opencv-python\n"
   ]
  },
  {
   "cell_type": "code",
   "execution_count": null,
   "metadata": {},
   "outputs": [],
   "source": [
    "import pytesseract\n",
    "import cv2\n",
    "import numpy as np\n",
    "import utlis\n",
    "import matplotlib.pyplot as plt\n",
    "%matplotlib inline\n"
   ]
  },
  {
   "cell_type": "markdown",
   "metadata": {},
   "source": [
    "## Download the Tesseract module for your Operating System "
   ]
  },
  {
   "cell_type": "markdown",
   "metadata": {},
   "source": [
    "https://github.com/UB-Mannheim/tesseract/wiki"
   ]
  },
  {
   "cell_type": "markdown",
   "metadata": {},
   "source": [
    "Give path of the executable file"
   ]
  },
  {
   "cell_type": "code",
   "execution_count": null,
   "metadata": {},
   "outputs": [],
   "source": [
    "pytesseract.pytesseract.tesseract_cmd = r\"C:\\Users\\College\\AppData\\Local\\Programs\\Tesseract-OCR\\tesseract.exe\""
   ]
  },
  {
   "cell_type": "markdown",
   "metadata": {},
   "source": [
    "## Loading the Image "
   ]
  },
  {
   "cell_type": "code",
   "execution_count": null,
   "metadata": {},
   "outputs": [],
   "source": [
    "img = cv2.imread(\"testing1.jpg\",flags=0)\n",
    "\n",
    "img = cv2.cvtColor(img,cv2.COLOR_BGR2RGB)\n",
    "img_h,img_w,_ = img.shape\n",
    "plt.imshow(img)"
   ]
  },
  {
   "cell_type": "markdown",
   "metadata": {},
   "source": [
    "## PreProcessing the Image "
   ]
  },
  {
   "cell_type": "code",
   "execution_count": null,
   "metadata": {},
   "outputs": [],
   "source": [
    "gray = cv2.threshold(img, 0, 255,cv2.THRESH_TOZERO)[1]\n",
    "imgGray = cv2.cvtColor(img, cv2.COLOR_RGB2GRAY) # CONVERTING IMAGE TO GRAY SCALE\n",
    "imgBlur = cv2.GaussianBlur(imgGray, (5, 5), 1) # ADDING GAUSSIAN BLUR\n",
    "plt.imshow(imgBlur)"
   ]
  },
  {
   "cell_type": "code",
   "execution_count": null,
   "metadata": {},
   "outputs": [],
   "source": [
    "imgThreshold = cv2.Canny(imgBlur,100,0)# APPLYING CANNY BLUR\n",
    "backup = imgThreshold.copy()\n",
    "plt.imshow(imgThreshold)"
   ]
  },
  {
   "cell_type": "code",
   "execution_count": null,
   "metadata": {},
   "outputs": [],
   "source": [
    "kernel = np.ones((5, 5))\n",
    "imgDial = cv2.dilate(imgThreshold, kernel, iterations=2) # APPLYING DILATION\n",
    "imgThreshold = cv2.erode(imgDial, kernel, iterations=1)  # APPLYING EROSION"
   ]
  },
  {
   "cell_type": "code",
   "execution_count": null,
   "metadata": {},
   "outputs": [],
   "source": [
    "## FIND ALL COUNTOURS\n",
    "imgContours = img.copy() # COPYING IMAGE FOR DISPLAY PURPOSES\n",
    "imgBigContour = img.copy() # COPYING IMAGE FOR DISPLAY PURPOSES\n",
    "contours, hierarchy = cv2.findContours(imgThreshold, cv2.RETR_EXTERNAL, cv2.CHAIN_APPROX_SIMPLE) # FINDING ALL CONTOURS\n",
    "cv2.drawContours(imgContours, contours, -1, (0, 255, 0), 10) # DRAWING ALL DETECTED CONTOURS"
   ]
  },
  {
   "cell_type": "markdown",
   "metadata": {},
   "source": [
    "## FINDING THE BIGGEST COUNTOUR "
   ]
  },
  {
   "cell_type": "code",
   "execution_count": null,
   "metadata": {},
   "outputs": [],
   "source": [
    "biggest, maxArea = utlis.biggestContour(contours)\n",
    "if biggest.size != 0:\n",
    "    biggest=utlis.reorder(biggest)\n",
    "    cv2.drawContours(imgBigContour, biggest, -1, (0, 255, 0), 20) # DRAWING THE BIGGEST CONTOUR\n",
    "    imgBigContour = utlis.drawRectangle(imgBigContour,biggest,2)\n",
    "    pts1 = np.float32(biggest) # PREPARE POINTS FOR WARP\n",
    "    pts2 = np.float32([[0, 0],[img_w, 0], [0, img_h],[img_w, img_h]]) # PREPARING POINTS FOR WARP\n",
    "    matrix = cv2.getPerspectiveTransform(pts1, pts2)\n",
    "    imgWarpColored = cv2.warpPerspective(img, matrix, (img_w, img_h))\n",
    "\n",
    "    #REMOVING 20 PIXELS FORM EACH SIDE\n",
    "    \n",
    "    imgWarpColored=imgWarpColored[20:imgWarpColored.shape[0] - 20, 20:imgWarpColored.shape[1] - 20]\n",
    "    imgWarpColored = cv2.resize(imgWarpColored,(img_w,img_h))"
   ]
  },
  {
   "cell_type": "markdown",
   "metadata": {},
   "source": [
    "## OUTPUT"
   ]
  },
  {
   "cell_type": "code",
   "execution_count": null,
   "metadata": {},
   "outputs": [],
   "source": [
    "try:\n",
    "    wordBoxes = pytesseract.image_to_data(imgWarpColored)\n",
    "    for x,b in enumerate(wordBoxes.splitlines()):\n",
    "        if x != 0:\n",
    "            b = b.split()\n",
    "            if len(b) == 12:\n",
    "                    x,y,w,h,word = int(b[6]),int(b[7]),int(b[8]),int(b[9]),b[-1]\n",
    "                    cv2.rectangle(imgWarpColored,(x,y),(w+x,h+y),(0,255,0),3)\n",
    "                    cv2.putText(imgWarpColored,word,(x,y),cv2.FONT_HERSHEY_PLAIN,1,(255,0,0),1)\n",
    "\n",
    "    print(\"Text Version:\\n\",pytesseract.image_to_string(imgGray))\n",
    "    print(\"\\nImage:\")\n",
    "    plt.imshow(cv2.cvtColor(imgWarpColored,cv2.COLOR_RGB2BGR))\n",
    "    plt.show()\n",
    "except:\n",
    "    wordBoxes = pytesseract.image_to_data(imgBlur)\n",
    "    for x,b in enumerate(wordBoxes.splitlines()):\n",
    "        if x != 0:\n",
    "            b = b.split()\n",
    "            if len(b) == 12:\n",
    "                x,y,w,h,word = int(b[6]),int(b[7]),int(b[8]),int(b[9]),b[-1]\n",
    "                cv2.rectangle(img,(x,y),(w+x,h+y),(0,255,0),3)\n",
    "                cv2.putText(img,word,(x,y),cv2.FONT_HERSHEY_PLAIN,1,(255,0,0),1)\n",
    "    print(\"Text Version:\\n\",pytesseract.image_to_string(imgBlur))\n",
    "    print(\"\\nImage:\")\n",
    "    plt.imshow(cv2.cvtColor(img,cv2.COLOR_RGB2BGR))\n",
    "    plt.show()\n"
   ]
  },
  {
   "cell_type": "code",
   "execution_count": null,
   "metadata": {},
   "outputs": [],
   "source": []
  },
  {
   "cell_type": "code",
   "execution_count": null,
   "metadata": {},
   "outputs": [],
   "source": []
  },
  {
   "cell_type": "code",
   "execution_count": null,
   "metadata": {},
   "outputs": [],
   "source": []
  }
 ],
 "metadata": {
  "kernelspec": {
   "display_name": "Python 3",
   "language": "python",
   "name": "python3"
  },
  "language_info": {
   "codemirror_mode": {
    "name": "ipython",
    "version": 3
   },
   "file_extension": ".py",
   "mimetype": "text/x-python",
   "name": "python",
   "nbconvert_exporter": "python",
   "pygments_lexer": "ipython3",
   "version": "3.8.5"
  }
 },
 "nbformat": 4,
 "nbformat_minor": 4
}
